{
  "nbformat": 4,
  "nbformat_minor": 0,
  "metadata": {
    "colab": {
      "name": "Real_estate_valuation.ipynb",
      "provenance": [],
      "collapsed_sections": []
    },
    "kernelspec": {
      "name": "python3",
      "display_name": "Python 3"
    },
    "language_info": {
      "name": "python"
    }
  },
  "cells": [
    {
      "cell_type": "code",
      "source": [
        "import pandas as pd\n",
        "import numpy as np\n",
        "import matplotlib.pyplot as plt\n",
        "import seaborn as sns\n",
        "%matplotlib inline\n",
        "\n",
        "import sklearn # scikit-learn kutubxonasi\n",
        "from sklearn.preprocessing import OneHotEncoder, StandardScaler\n",
        "from sklearn.model_selection import train_test_split\n",
        "from sklearn.impute import SimpleImputer\n",
        "from sklearn.compose import ColumnTransformer\n",
        "from sklearn.model_selection import StratifiedShuffleSplit\n",
        "from sklearn.linear_model import LogisticRegression, LinearRegression\n",
        "from sklearn import linear_model\n",
        "from sklearn.tree import DecisionTreeClassifier, plot_tree\n",
        "from sklearn.ensemble import RandomForestClassifier, RandomForestRegressor\n",
        "from sklearn.metrics import mean_squared_error, mean_absolute_error\n",
        "\n",
        "from sklearn.tree import DecisionTreeRegressor\n",
        "from sklearn.model_selection import cross_val_score\n",
        "from sklearn.metrics import precision_score, recall_score, f1_score, accuracy_score\n",
        "from sklearn.metrics import classification_report\n",
        "from sklearn.svm import SVC\n",
        "from sklearn.metrics import confusion_matrix\n",
        "from xgboost import XGBClassifier\n",
        "\n",
        "from sklearn.pipeline import Pipeline\n",
        "from sklearn import metrics "
      ],
      "metadata": {
        "id": "u42eOvQylhwN"
      },
      "execution_count": 21,
      "outputs": []
    },
    {
      "cell_type": "markdown",
      "source": [
        "# Bizning ushbu modelni qurishdagi vazifamiz **`Y house price of unit area`**(Birlik maydonining uy narxi ) ni bashorat qilish "
      ],
      "metadata": {
        "id": "MXZcI6PJydhk"
      }
    },
    {
      "cell_type": "markdown",
      "source": [
        "## **Ta'rif**\n",
        "\n",
        "- `X1 transaction date`\t--->  *Tranzaktsiya sanasi (masalan, 2013.250=2013-mart, 2013.500=2013-iyun va boshqalar)*\n",
        "\n",
        "- `X2 house age`\t--->  *Uy yoshi (birlik: yil)*\n",
        "\n",
        "- `X3 distance to the nearest MRT station`\t--->  *Eng yaqin MRT stantsiyasigacha bo'lgan masofa (birlik: metr)*\n",
        "\n",
        "- `X4 number of convenience stores`\t--->  *Piyoda yashash doirasidagi do'konlar soni*\n",
        "\n",
        "- `X5 latitude`\t--->  *Geografik koordinata, kenglik (birlik: daraja)*\n",
        "\n",
        "- `X6 longtitude`\t--->  *Geografik koordinata, uzunlik (birlik: daraja)*\n",
        "\n",
        "- `Y house price of unit area`\t--->  *Birlik maydonining uy narxi (10000 Yangi Tayvan Dollari/Ping, bu erda Ping mahalliy birlikdir, 1 Ping = 3,3 metr kvadrat), masalan, 29,3 = 293 000 Yangi Tayvan Dollari/`Ping`*"
      ],
      "metadata": {
        "id": "IRlRb5mbzAVR"
      }
    },
    {
      "cell_type": "code",
      "execution_count": 22,
      "metadata": {
        "colab": {
          "base_uri": "https://localhost:8080/",
          "height": 206
        },
        "id": "W_MAnDwplLkR",
        "outputId": "82914e24-99b9-47f9-b589-f100bc663fd8"
      },
      "outputs": [
        {
          "output_type": "execute_result",
          "data": {
            "text/plain": [
              "   X1 transaction date  X2 house age  X3 distance to the nearest MRT station  \\\n",
              "0          2012.916667          32.0                                84.87882   \n",
              "1          2012.916667          19.5                               306.59470   \n",
              "2          2013.583333          13.3                               561.98450   \n",
              "3          2013.500000          13.3                               561.98450   \n",
              "4          2012.833333           5.0                               390.56840   \n",
              "\n",
              "   X4 number of convenience stores  X5 latitude  X6 longitude  \\\n",
              "0                               10     24.98298     121.54024   \n",
              "1                                9     24.98034     121.53951   \n",
              "2                                5     24.98746     121.54391   \n",
              "3                                5     24.98746     121.54391   \n",
              "4                                5     24.97937     121.54245   \n",
              "\n",
              "   Y house price of unit area  \n",
              "0                        37.9  \n",
              "1                        42.2  \n",
              "2                        47.3  \n",
              "3                        54.8  \n",
              "4                        43.1  "
            ],
            "text/html": [
              "\n",
              "  <div id=\"df-6dfc6b27-776e-447b-9cf5-e3c62073df8a\">\n",
              "    <div class=\"colab-df-container\">\n",
              "      <div>\n",
              "<style scoped>\n",
              "    .dataframe tbody tr th:only-of-type {\n",
              "        vertical-align: middle;\n",
              "    }\n",
              "\n",
              "    .dataframe tbody tr th {\n",
              "        vertical-align: top;\n",
              "    }\n",
              "\n",
              "    .dataframe thead th {\n",
              "        text-align: right;\n",
              "    }\n",
              "</style>\n",
              "<table border=\"1\" class=\"dataframe\">\n",
              "  <thead>\n",
              "    <tr style=\"text-align: right;\">\n",
              "      <th></th>\n",
              "      <th>X1 transaction date</th>\n",
              "      <th>X2 house age</th>\n",
              "      <th>X3 distance to the nearest MRT station</th>\n",
              "      <th>X4 number of convenience stores</th>\n",
              "      <th>X5 latitude</th>\n",
              "      <th>X6 longitude</th>\n",
              "      <th>Y house price of unit area</th>\n",
              "    </tr>\n",
              "  </thead>\n",
              "  <tbody>\n",
              "    <tr>\n",
              "      <th>0</th>\n",
              "      <td>2012.916667</td>\n",
              "      <td>32.0</td>\n",
              "      <td>84.87882</td>\n",
              "      <td>10</td>\n",
              "      <td>24.98298</td>\n",
              "      <td>121.54024</td>\n",
              "      <td>37.9</td>\n",
              "    </tr>\n",
              "    <tr>\n",
              "      <th>1</th>\n",
              "      <td>2012.916667</td>\n",
              "      <td>19.5</td>\n",
              "      <td>306.59470</td>\n",
              "      <td>9</td>\n",
              "      <td>24.98034</td>\n",
              "      <td>121.53951</td>\n",
              "      <td>42.2</td>\n",
              "    </tr>\n",
              "    <tr>\n",
              "      <th>2</th>\n",
              "      <td>2013.583333</td>\n",
              "      <td>13.3</td>\n",
              "      <td>561.98450</td>\n",
              "      <td>5</td>\n",
              "      <td>24.98746</td>\n",
              "      <td>121.54391</td>\n",
              "      <td>47.3</td>\n",
              "    </tr>\n",
              "    <tr>\n",
              "      <th>3</th>\n",
              "      <td>2013.500000</td>\n",
              "      <td>13.3</td>\n",
              "      <td>561.98450</td>\n",
              "      <td>5</td>\n",
              "      <td>24.98746</td>\n",
              "      <td>121.54391</td>\n",
              "      <td>54.8</td>\n",
              "    </tr>\n",
              "    <tr>\n",
              "      <th>4</th>\n",
              "      <td>2012.833333</td>\n",
              "      <td>5.0</td>\n",
              "      <td>390.56840</td>\n",
              "      <td>5</td>\n",
              "      <td>24.97937</td>\n",
              "      <td>121.54245</td>\n",
              "      <td>43.1</td>\n",
              "    </tr>\n",
              "  </tbody>\n",
              "</table>\n",
              "</div>\n",
              "      <button class=\"colab-df-convert\" onclick=\"convertToInteractive('df-6dfc6b27-776e-447b-9cf5-e3c62073df8a')\"\n",
              "              title=\"Convert this dataframe to an interactive table.\"\n",
              "              style=\"display:none;\">\n",
              "        \n",
              "  <svg xmlns=\"http://www.w3.org/2000/svg\" height=\"24px\"viewBox=\"0 0 24 24\"\n",
              "       width=\"24px\">\n",
              "    <path d=\"M0 0h24v24H0V0z\" fill=\"none\"/>\n",
              "    <path d=\"M18.56 5.44l.94 2.06.94-2.06 2.06-.94-2.06-.94-.94-2.06-.94 2.06-2.06.94zm-11 1L8.5 8.5l.94-2.06 2.06-.94-2.06-.94L8.5 2.5l-.94 2.06-2.06.94zm10 10l.94 2.06.94-2.06 2.06-.94-2.06-.94-.94-2.06-.94 2.06-2.06.94z\"/><path d=\"M17.41 7.96l-1.37-1.37c-.4-.4-.92-.59-1.43-.59-.52 0-1.04.2-1.43.59L10.3 9.45l-7.72 7.72c-.78.78-.78 2.05 0 2.83L4 21.41c.39.39.9.59 1.41.59.51 0 1.02-.2 1.41-.59l7.78-7.78 2.81-2.81c.8-.78.8-2.07 0-2.86zM5.41 20L4 18.59l7.72-7.72 1.47 1.35L5.41 20z\"/>\n",
              "  </svg>\n",
              "      </button>\n",
              "      \n",
              "  <style>\n",
              "    .colab-df-container {\n",
              "      display:flex;\n",
              "      flex-wrap:wrap;\n",
              "      gap: 12px;\n",
              "    }\n",
              "\n",
              "    .colab-df-convert {\n",
              "      background-color: #E8F0FE;\n",
              "      border: none;\n",
              "      border-radius: 50%;\n",
              "      cursor: pointer;\n",
              "      display: none;\n",
              "      fill: #1967D2;\n",
              "      height: 32px;\n",
              "      padding: 0 0 0 0;\n",
              "      width: 32px;\n",
              "    }\n",
              "\n",
              "    .colab-df-convert:hover {\n",
              "      background-color: #E2EBFA;\n",
              "      box-shadow: 0px 1px 2px rgba(60, 64, 67, 0.3), 0px 1px 3px 1px rgba(60, 64, 67, 0.15);\n",
              "      fill: #174EA6;\n",
              "    }\n",
              "\n",
              "    [theme=dark] .colab-df-convert {\n",
              "      background-color: #3B4455;\n",
              "      fill: #D2E3FC;\n",
              "    }\n",
              "\n",
              "    [theme=dark] .colab-df-convert:hover {\n",
              "      background-color: #434B5C;\n",
              "      box-shadow: 0px 1px 3px 1px rgba(0, 0, 0, 0.15);\n",
              "      filter: drop-shadow(0px 1px 2px rgba(0, 0, 0, 0.3));\n",
              "      fill: #FFFFFF;\n",
              "    }\n",
              "  </style>\n",
              "\n",
              "      <script>\n",
              "        const buttonEl =\n",
              "          document.querySelector('#df-6dfc6b27-776e-447b-9cf5-e3c62073df8a button.colab-df-convert');\n",
              "        buttonEl.style.display =\n",
              "          google.colab.kernel.accessAllowed ? 'block' : 'none';\n",
              "\n",
              "        async function convertToInteractive(key) {\n",
              "          const element = document.querySelector('#df-6dfc6b27-776e-447b-9cf5-e3c62073df8a');\n",
              "          const dataTable =\n",
              "            await google.colab.kernel.invokeFunction('convertToInteractive',\n",
              "                                                     [key], {});\n",
              "          if (!dataTable) return;\n",
              "\n",
              "          const docLinkHtml = 'Like what you see? Visit the ' +\n",
              "            '<a target=\"_blank\" href=https://colab.research.google.com/notebooks/data_table.ipynb>data table notebook</a>'\n",
              "            + ' to learn more about interactive tables.';\n",
              "          element.innerHTML = '';\n",
              "          dataTable['output_type'] = 'display_data';\n",
              "          await google.colab.output.renderOutput(dataTable, element);\n",
              "          const docLink = document.createElement('div');\n",
              "          docLink.innerHTML = docLinkHtml;\n",
              "          element.appendChild(docLink);\n",
              "        }\n",
              "      </script>\n",
              "    </div>\n",
              "  </div>\n",
              "  "
            ]
          },
          "metadata": {},
          "execution_count": 22
        }
      ],
      "source": [
        "url = \"https://github.com/farkhod-developer/Datasets_Practice/blob/main/Real_estate_valuation_data_set.xlsx?raw=True\"\n",
        "df = pd.read_excel(url)\n",
        "df.head()"
      ]
    },
    {
      "cell_type": "markdown",
      "source": [
        "Ko'rib turganingizdek dataset ustunlar nomlari birtoz tartibsiz holda ekan, ushbu ustunlar nomlarini tartiblab o'zgartirib oldik"
      ],
      "metadata": {
        "id": "HQK9EStP0g2x"
      }
    },
    {
      "cell_type": "code",
      "source": [
        "columns = ['transaction_date', 'house_age', 'distance_MRT_station', 'number_stores', 'latitude', 'longitude', 'house_price']\n",
        "df.columns = columns\n",
        "df.head()"
      ],
      "metadata": {
        "colab": {
          "base_uri": "https://localhost:8080/",
          "height": 206
        },
        "id": "g40QiH09qEvT",
        "outputId": "95341252-6c73-4040-f7a3-7c4ae277e091"
      },
      "execution_count": 23,
      "outputs": [
        {
          "output_type": "execute_result",
          "data": {
            "text/plain": [
              "   transaction_date  house_age  distance_MRT_station  number_stores  latitude  \\\n",
              "0       2012.916667       32.0              84.87882             10  24.98298   \n",
              "1       2012.916667       19.5             306.59470              9  24.98034   \n",
              "2       2013.583333       13.3             561.98450              5  24.98746   \n",
              "3       2013.500000       13.3             561.98450              5  24.98746   \n",
              "4       2012.833333        5.0             390.56840              5  24.97937   \n",
              "\n",
              "   longitude  house_price  \n",
              "0  121.54024         37.9  \n",
              "1  121.53951         42.2  \n",
              "2  121.54391         47.3  \n",
              "3  121.54391         54.8  \n",
              "4  121.54245         43.1  "
            ],
            "text/html": [
              "\n",
              "  <div id=\"df-1a014787-2c58-4001-8431-ee1ce29b259a\">\n",
              "    <div class=\"colab-df-container\">\n",
              "      <div>\n",
              "<style scoped>\n",
              "    .dataframe tbody tr th:only-of-type {\n",
              "        vertical-align: middle;\n",
              "    }\n",
              "\n",
              "    .dataframe tbody tr th {\n",
              "        vertical-align: top;\n",
              "    }\n",
              "\n",
              "    .dataframe thead th {\n",
              "        text-align: right;\n",
              "    }\n",
              "</style>\n",
              "<table border=\"1\" class=\"dataframe\">\n",
              "  <thead>\n",
              "    <tr style=\"text-align: right;\">\n",
              "      <th></th>\n",
              "      <th>transaction_date</th>\n",
              "      <th>house_age</th>\n",
              "      <th>distance_MRT_station</th>\n",
              "      <th>number_stores</th>\n",
              "      <th>latitude</th>\n",
              "      <th>longitude</th>\n",
              "      <th>house_price</th>\n",
              "    </tr>\n",
              "  </thead>\n",
              "  <tbody>\n",
              "    <tr>\n",
              "      <th>0</th>\n",
              "      <td>2012.916667</td>\n",
              "      <td>32.0</td>\n",
              "      <td>84.87882</td>\n",
              "      <td>10</td>\n",
              "      <td>24.98298</td>\n",
              "      <td>121.54024</td>\n",
              "      <td>37.9</td>\n",
              "    </tr>\n",
              "    <tr>\n",
              "      <th>1</th>\n",
              "      <td>2012.916667</td>\n",
              "      <td>19.5</td>\n",
              "      <td>306.59470</td>\n",
              "      <td>9</td>\n",
              "      <td>24.98034</td>\n",
              "      <td>121.53951</td>\n",
              "      <td>42.2</td>\n",
              "    </tr>\n",
              "    <tr>\n",
              "      <th>2</th>\n",
              "      <td>2013.583333</td>\n",
              "      <td>13.3</td>\n",
              "      <td>561.98450</td>\n",
              "      <td>5</td>\n",
              "      <td>24.98746</td>\n",
              "      <td>121.54391</td>\n",
              "      <td>47.3</td>\n",
              "    </tr>\n",
              "    <tr>\n",
              "      <th>3</th>\n",
              "      <td>2013.500000</td>\n",
              "      <td>13.3</td>\n",
              "      <td>561.98450</td>\n",
              "      <td>5</td>\n",
              "      <td>24.98746</td>\n",
              "      <td>121.54391</td>\n",
              "      <td>54.8</td>\n",
              "    </tr>\n",
              "    <tr>\n",
              "      <th>4</th>\n",
              "      <td>2012.833333</td>\n",
              "      <td>5.0</td>\n",
              "      <td>390.56840</td>\n",
              "      <td>5</td>\n",
              "      <td>24.97937</td>\n",
              "      <td>121.54245</td>\n",
              "      <td>43.1</td>\n",
              "    </tr>\n",
              "  </tbody>\n",
              "</table>\n",
              "</div>\n",
              "      <button class=\"colab-df-convert\" onclick=\"convertToInteractive('df-1a014787-2c58-4001-8431-ee1ce29b259a')\"\n",
              "              title=\"Convert this dataframe to an interactive table.\"\n",
              "              style=\"display:none;\">\n",
              "        \n",
              "  <svg xmlns=\"http://www.w3.org/2000/svg\" height=\"24px\"viewBox=\"0 0 24 24\"\n",
              "       width=\"24px\">\n",
              "    <path d=\"M0 0h24v24H0V0z\" fill=\"none\"/>\n",
              "    <path d=\"M18.56 5.44l.94 2.06.94-2.06 2.06-.94-2.06-.94-.94-2.06-.94 2.06-2.06.94zm-11 1L8.5 8.5l.94-2.06 2.06-.94-2.06-.94L8.5 2.5l-.94 2.06-2.06.94zm10 10l.94 2.06.94-2.06 2.06-.94-2.06-.94-.94-2.06-.94 2.06-2.06.94z\"/><path d=\"M17.41 7.96l-1.37-1.37c-.4-.4-.92-.59-1.43-.59-.52 0-1.04.2-1.43.59L10.3 9.45l-7.72 7.72c-.78.78-.78 2.05 0 2.83L4 21.41c.39.39.9.59 1.41.59.51 0 1.02-.2 1.41-.59l7.78-7.78 2.81-2.81c.8-.78.8-2.07 0-2.86zM5.41 20L4 18.59l7.72-7.72 1.47 1.35L5.41 20z\"/>\n",
              "  </svg>\n",
              "      </button>\n",
              "      \n",
              "  <style>\n",
              "    .colab-df-container {\n",
              "      display:flex;\n",
              "      flex-wrap:wrap;\n",
              "      gap: 12px;\n",
              "    }\n",
              "\n",
              "    .colab-df-convert {\n",
              "      background-color: #E8F0FE;\n",
              "      border: none;\n",
              "      border-radius: 50%;\n",
              "      cursor: pointer;\n",
              "      display: none;\n",
              "      fill: #1967D2;\n",
              "      height: 32px;\n",
              "      padding: 0 0 0 0;\n",
              "      width: 32px;\n",
              "    }\n",
              "\n",
              "    .colab-df-convert:hover {\n",
              "      background-color: #E2EBFA;\n",
              "      box-shadow: 0px 1px 2px rgba(60, 64, 67, 0.3), 0px 1px 3px 1px rgba(60, 64, 67, 0.15);\n",
              "      fill: #174EA6;\n",
              "    }\n",
              "\n",
              "    [theme=dark] .colab-df-convert {\n",
              "      background-color: #3B4455;\n",
              "      fill: #D2E3FC;\n",
              "    }\n",
              "\n",
              "    [theme=dark] .colab-df-convert:hover {\n",
              "      background-color: #434B5C;\n",
              "      box-shadow: 0px 1px 3px 1px rgba(0, 0, 0, 0.15);\n",
              "      filter: drop-shadow(0px 1px 2px rgba(0, 0, 0, 0.3));\n",
              "      fill: #FFFFFF;\n",
              "    }\n",
              "  </style>\n",
              "\n",
              "      <script>\n",
              "        const buttonEl =\n",
              "          document.querySelector('#df-1a014787-2c58-4001-8431-ee1ce29b259a button.colab-df-convert');\n",
              "        buttonEl.style.display =\n",
              "          google.colab.kernel.accessAllowed ? 'block' : 'none';\n",
              "\n",
              "        async function convertToInteractive(key) {\n",
              "          const element = document.querySelector('#df-1a014787-2c58-4001-8431-ee1ce29b259a');\n",
              "          const dataTable =\n",
              "            await google.colab.kernel.invokeFunction('convertToInteractive',\n",
              "                                                     [key], {});\n",
              "          if (!dataTable) return;\n",
              "\n",
              "          const docLinkHtml = 'Like what you see? Visit the ' +\n",
              "            '<a target=\"_blank\" href=https://colab.research.google.com/notebooks/data_table.ipynb>data table notebook</a>'\n",
              "            + ' to learn more about interactive tables.';\n",
              "          element.innerHTML = '';\n",
              "          dataTable['output_type'] = 'display_data';\n",
              "          await google.colab.output.renderOutput(dataTable, element);\n",
              "          const docLink = document.createElement('div');\n",
              "          docLink.innerHTML = docLinkHtml;\n",
              "          element.appendChild(docLink);\n",
              "        }\n",
              "      </script>\n",
              "    </div>\n",
              "  </div>\n",
              "  "
            ]
          },
          "metadata": {},
          "execution_count": 23
        }
      ]
    },
    {
      "cell_type": "markdown",
      "source": [
        "datasetimiz `414` ta qator `7` ta ustundan iborat ekan"
      ],
      "metadata": {
        "id": "H3W4nw7v1L90"
      }
    },
    {
      "cell_type": "code",
      "source": [
        "df.shape"
      ],
      "metadata": {
        "colab": {
          "base_uri": "https://localhost:8080/"
        },
        "id": "W25z8ajAlyUG",
        "outputId": "a4ed88bf-1a98-40e4-915b-0f49d22c6952"
      },
      "execution_count": 24,
      "outputs": [
        {
          "output_type": "execute_result",
          "data": {
            "text/plain": [
              "(414, 7)"
            ]
          },
          "metadata": {},
          "execution_count": 24
        }
      ]
    },
    {
      "cell_type": "markdown",
      "source": [
        "ma'lumotlarimizda `NaN` qiymatlar yo'q ekan"
      ],
      "metadata": {
        "id": "_hhv-Mca1dT5"
      }
    },
    {
      "cell_type": "code",
      "source": [
        "df.info()"
      ],
      "metadata": {
        "colab": {
          "base_uri": "https://localhost:8080/"
        },
        "id": "2vzo5PAayWds",
        "outputId": "c4ffe8af-2d21-46ee-9cac-f3e5366686fd"
      },
      "execution_count": 25,
      "outputs": [
        {
          "output_type": "stream",
          "name": "stdout",
          "text": [
            "<class 'pandas.core.frame.DataFrame'>\n",
            "RangeIndex: 414 entries, 0 to 413\n",
            "Data columns (total 7 columns):\n",
            " #   Column                Non-Null Count  Dtype  \n",
            "---  ------                --------------  -----  \n",
            " 0   transaction_date      414 non-null    float64\n",
            " 1   house_age             414 non-null    float64\n",
            " 2   distance_MRT_station  414 non-null    float64\n",
            " 3   number_stores         414 non-null    int64  \n",
            " 4   latitude              414 non-null    float64\n",
            " 5   longitude             414 non-null    float64\n",
            " 6   house_price           414 non-null    float64\n",
            "dtypes: float64(6), int64(1)\n",
            "memory usage: 22.8 KB\n"
          ]
        }
      ]
    },
    {
      "cell_type": "markdown",
      "source": [
        "Takrorlanuvchi qiymatlar ham yo'q ekan"
      ],
      "metadata": {
        "id": "6iSxE3wb2L5X"
      }
    },
    {
      "cell_type": "code",
      "source": [
        "df.duplicated().sum()"
      ],
      "metadata": {
        "colab": {
          "base_uri": "https://localhost:8080/"
        },
        "id": "1hqaPE8MydWD",
        "outputId": "8446c4d2-3918-44cd-e094-461920bb1a36"
      },
      "execution_count": 26,
      "outputs": [
        {
          "output_type": "execute_result",
          "data": {
            "text/plain": [
              "0"
            ]
          },
          "metadata": {},
          "execution_count": 26
        }
      ]
    },
    {
      "cell_type": "code",
      "source": [
        "df.describe()"
      ],
      "metadata": {
        "colab": {
          "base_uri": "https://localhost:8080/",
          "height": 300
        },
        "id": "uz8GrNWvytT0",
        "outputId": "8db41198-700e-4b72-989f-f3be3b8bf4be"
      },
      "execution_count": 27,
      "outputs": [
        {
          "output_type": "execute_result",
          "data": {
            "text/plain": [
              "       transaction_date   house_age  distance_MRT_station  number_stores  \\\n",
              "count        414.000000  414.000000            414.000000     414.000000   \n",
              "mean        2013.148953   17.712560           1083.885689       4.094203   \n",
              "std            0.281995   11.392485           1262.109595       2.945562   \n",
              "min         2012.666667    0.000000             23.382840       0.000000   \n",
              "25%         2012.916667    9.025000            289.324800       1.000000   \n",
              "50%         2013.166667   16.100000            492.231300       4.000000   \n",
              "75%         2013.416667   28.150000           1454.279000       6.000000   \n",
              "max         2013.583333   43.800000           6488.021000      10.000000   \n",
              "\n",
              "         latitude   longitude  house_price  \n",
              "count  414.000000  414.000000   414.000000  \n",
              "mean    24.969030  121.533361    37.980193  \n",
              "std      0.012410    0.015347    13.606488  \n",
              "min     24.932070  121.473530     7.600000  \n",
              "25%     24.963000  121.528085    27.700000  \n",
              "50%     24.971100  121.538630    38.450000  \n",
              "75%     24.977455  121.543305    46.600000  \n",
              "max     25.014590  121.566270   117.500000  "
            ],
            "text/html": [
              "\n",
              "  <div id=\"df-617fc77e-e2e3-473d-aa40-cd5dc2e4198a\">\n",
              "    <div class=\"colab-df-container\">\n",
              "      <div>\n",
              "<style scoped>\n",
              "    .dataframe tbody tr th:only-of-type {\n",
              "        vertical-align: middle;\n",
              "    }\n",
              "\n",
              "    .dataframe tbody tr th {\n",
              "        vertical-align: top;\n",
              "    }\n",
              "\n",
              "    .dataframe thead th {\n",
              "        text-align: right;\n",
              "    }\n",
              "</style>\n",
              "<table border=\"1\" class=\"dataframe\">\n",
              "  <thead>\n",
              "    <tr style=\"text-align: right;\">\n",
              "      <th></th>\n",
              "      <th>transaction_date</th>\n",
              "      <th>house_age</th>\n",
              "      <th>distance_MRT_station</th>\n",
              "      <th>number_stores</th>\n",
              "      <th>latitude</th>\n",
              "      <th>longitude</th>\n",
              "      <th>house_price</th>\n",
              "    </tr>\n",
              "  </thead>\n",
              "  <tbody>\n",
              "    <tr>\n",
              "      <th>count</th>\n",
              "      <td>414.000000</td>\n",
              "      <td>414.000000</td>\n",
              "      <td>414.000000</td>\n",
              "      <td>414.000000</td>\n",
              "      <td>414.000000</td>\n",
              "      <td>414.000000</td>\n",
              "      <td>414.000000</td>\n",
              "    </tr>\n",
              "    <tr>\n",
              "      <th>mean</th>\n",
              "      <td>2013.148953</td>\n",
              "      <td>17.712560</td>\n",
              "      <td>1083.885689</td>\n",
              "      <td>4.094203</td>\n",
              "      <td>24.969030</td>\n",
              "      <td>121.533361</td>\n",
              "      <td>37.980193</td>\n",
              "    </tr>\n",
              "    <tr>\n",
              "      <th>std</th>\n",
              "      <td>0.281995</td>\n",
              "      <td>11.392485</td>\n",
              "      <td>1262.109595</td>\n",
              "      <td>2.945562</td>\n",
              "      <td>0.012410</td>\n",
              "      <td>0.015347</td>\n",
              "      <td>13.606488</td>\n",
              "    </tr>\n",
              "    <tr>\n",
              "      <th>min</th>\n",
              "      <td>2012.666667</td>\n",
              "      <td>0.000000</td>\n",
              "      <td>23.382840</td>\n",
              "      <td>0.000000</td>\n",
              "      <td>24.932070</td>\n",
              "      <td>121.473530</td>\n",
              "      <td>7.600000</td>\n",
              "    </tr>\n",
              "    <tr>\n",
              "      <th>25%</th>\n",
              "      <td>2012.916667</td>\n",
              "      <td>9.025000</td>\n",
              "      <td>289.324800</td>\n",
              "      <td>1.000000</td>\n",
              "      <td>24.963000</td>\n",
              "      <td>121.528085</td>\n",
              "      <td>27.700000</td>\n",
              "    </tr>\n",
              "    <tr>\n",
              "      <th>50%</th>\n",
              "      <td>2013.166667</td>\n",
              "      <td>16.100000</td>\n",
              "      <td>492.231300</td>\n",
              "      <td>4.000000</td>\n",
              "      <td>24.971100</td>\n",
              "      <td>121.538630</td>\n",
              "      <td>38.450000</td>\n",
              "    </tr>\n",
              "    <tr>\n",
              "      <th>75%</th>\n",
              "      <td>2013.416667</td>\n",
              "      <td>28.150000</td>\n",
              "      <td>1454.279000</td>\n",
              "      <td>6.000000</td>\n",
              "      <td>24.977455</td>\n",
              "      <td>121.543305</td>\n",
              "      <td>46.600000</td>\n",
              "    </tr>\n",
              "    <tr>\n",
              "      <th>max</th>\n",
              "      <td>2013.583333</td>\n",
              "      <td>43.800000</td>\n",
              "      <td>6488.021000</td>\n",
              "      <td>10.000000</td>\n",
              "      <td>25.014590</td>\n",
              "      <td>121.566270</td>\n",
              "      <td>117.500000</td>\n",
              "    </tr>\n",
              "  </tbody>\n",
              "</table>\n",
              "</div>\n",
              "      <button class=\"colab-df-convert\" onclick=\"convertToInteractive('df-617fc77e-e2e3-473d-aa40-cd5dc2e4198a')\"\n",
              "              title=\"Convert this dataframe to an interactive table.\"\n",
              "              style=\"display:none;\">\n",
              "        \n",
              "  <svg xmlns=\"http://www.w3.org/2000/svg\" height=\"24px\"viewBox=\"0 0 24 24\"\n",
              "       width=\"24px\">\n",
              "    <path d=\"M0 0h24v24H0V0z\" fill=\"none\"/>\n",
              "    <path d=\"M18.56 5.44l.94 2.06.94-2.06 2.06-.94-2.06-.94-.94-2.06-.94 2.06-2.06.94zm-11 1L8.5 8.5l.94-2.06 2.06-.94-2.06-.94L8.5 2.5l-.94 2.06-2.06.94zm10 10l.94 2.06.94-2.06 2.06-.94-2.06-.94-.94-2.06-.94 2.06-2.06.94z\"/><path d=\"M17.41 7.96l-1.37-1.37c-.4-.4-.92-.59-1.43-.59-.52 0-1.04.2-1.43.59L10.3 9.45l-7.72 7.72c-.78.78-.78 2.05 0 2.83L4 21.41c.39.39.9.59 1.41.59.51 0 1.02-.2 1.41-.59l7.78-7.78 2.81-2.81c.8-.78.8-2.07 0-2.86zM5.41 20L4 18.59l7.72-7.72 1.47 1.35L5.41 20z\"/>\n",
              "  </svg>\n",
              "      </button>\n",
              "      \n",
              "  <style>\n",
              "    .colab-df-container {\n",
              "      display:flex;\n",
              "      flex-wrap:wrap;\n",
              "      gap: 12px;\n",
              "    }\n",
              "\n",
              "    .colab-df-convert {\n",
              "      background-color: #E8F0FE;\n",
              "      border: none;\n",
              "      border-radius: 50%;\n",
              "      cursor: pointer;\n",
              "      display: none;\n",
              "      fill: #1967D2;\n",
              "      height: 32px;\n",
              "      padding: 0 0 0 0;\n",
              "      width: 32px;\n",
              "    }\n",
              "\n",
              "    .colab-df-convert:hover {\n",
              "      background-color: #E2EBFA;\n",
              "      box-shadow: 0px 1px 2px rgba(60, 64, 67, 0.3), 0px 1px 3px 1px rgba(60, 64, 67, 0.15);\n",
              "      fill: #174EA6;\n",
              "    }\n",
              "\n",
              "    [theme=dark] .colab-df-convert {\n",
              "      background-color: #3B4455;\n",
              "      fill: #D2E3FC;\n",
              "    }\n",
              "\n",
              "    [theme=dark] .colab-df-convert:hover {\n",
              "      background-color: #434B5C;\n",
              "      box-shadow: 0px 1px 3px 1px rgba(0, 0, 0, 0.15);\n",
              "      filter: drop-shadow(0px 1px 2px rgba(0, 0, 0, 0.3));\n",
              "      fill: #FFFFFF;\n",
              "    }\n",
              "  </style>\n",
              "\n",
              "      <script>\n",
              "        const buttonEl =\n",
              "          document.querySelector('#df-617fc77e-e2e3-473d-aa40-cd5dc2e4198a button.colab-df-convert');\n",
              "        buttonEl.style.display =\n",
              "          google.colab.kernel.accessAllowed ? 'block' : 'none';\n",
              "\n",
              "        async function convertToInteractive(key) {\n",
              "          const element = document.querySelector('#df-617fc77e-e2e3-473d-aa40-cd5dc2e4198a');\n",
              "          const dataTable =\n",
              "            await google.colab.kernel.invokeFunction('convertToInteractive',\n",
              "                                                     [key], {});\n",
              "          if (!dataTable) return;\n",
              "\n",
              "          const docLinkHtml = 'Like what you see? Visit the ' +\n",
              "            '<a target=\"_blank\" href=https://colab.research.google.com/notebooks/data_table.ipynb>data table notebook</a>'\n",
              "            + ' to learn more about interactive tables.';\n",
              "          element.innerHTML = '';\n",
              "          dataTable['output_type'] = 'display_data';\n",
              "          await google.colab.output.renderOutput(dataTable, element);\n",
              "          const docLink = document.createElement('div');\n",
              "          docLink.innerHTML = docLinkHtml;\n",
              "          element.appendChild(docLink);\n",
              "        }\n",
              "      </script>\n",
              "    </div>\n",
              "  </div>\n",
              "  "
            ]
          },
          "metadata": {},
          "execution_count": 27
        }
      ]
    },
    {
      "cell_type": "code",
      "source": [
        "df['house_price'].value_counts()"
      ],
      "metadata": {
        "colab": {
          "base_uri": "https://localhost:8080/"
        },
        "id": "C3aWguZPyx8M",
        "outputId": "3f5c0235-cc01-4998-bb59-55d2771af5ed"
      },
      "execution_count": 28,
      "outputs": [
        {
          "output_type": "execute_result",
          "data": {
            "text/plain": [
              "42.5    4\n",
              "40.3    4\n",
              "29.3    4\n",
              "40.6    4\n",
              "37.4    4\n",
              "       ..\n",
              "55.9    1\n",
              "22.9    1\n",
              "21.5    1\n",
              "55.1    1\n",
              "63.9    1\n",
              "Name: house_price, Length: 270, dtype: int64"
            ]
          },
          "metadata": {},
          "execution_count": 28
        }
      ]
    },
    {
      "cell_type": "code",
      "source": [
        "df['house_price'].describe()"
      ],
      "metadata": {
        "colab": {
          "base_uri": "https://localhost:8080/"
        },
        "id": "bPAFdq31zCJt",
        "outputId": "adb2bab9-8777-45d0-ceab-38e2f0af5670"
      },
      "execution_count": 29,
      "outputs": [
        {
          "output_type": "execute_result",
          "data": {
            "text/plain": [
              "count    414.000000\n",
              "mean      37.980193\n",
              "std       13.606488\n",
              "min        7.600000\n",
              "25%       27.700000\n",
              "50%       38.450000\n",
              "75%       46.600000\n",
              "max      117.500000\n",
              "Name: house_price, dtype: float64"
            ]
          },
          "metadata": {},
          "execution_count": 29
        }
      ]
    },
    {
      "cell_type": "markdown",
      "source": [
        "`house_price`(uylar narxlari) ustuniga nisbatan barcha ustunlarning korrelyatsiyasi, eng yaxshi korrelyatsiya `eng yaqin metrogacha bo'lgan masofa` ekan"
      ],
      "metadata": {
        "id": "_0Qh63vR200C"
      }
    },
    {
      "cell_type": "code",
      "source": [
        "df.corrwith(df['house_price']).abs().sort_values(ascending=False)"
      ],
      "metadata": {
        "colab": {
          "base_uri": "https://localhost:8080/"
        },
        "id": "9BQs0XGRzOqQ",
        "outputId": "78868d44-9bcf-45f1-94fe-d80102da1c5b"
      },
      "execution_count": 30,
      "outputs": [
        {
          "output_type": "execute_result",
          "data": {
            "text/plain": [
              "house_price             1.000000\n",
              "distance_MRT_station    0.673613\n",
              "number_stores           0.571005\n",
              "latitude                0.546307\n",
              "longitude               0.523287\n",
              "house_age               0.210567\n",
              "transaction_date        0.087529\n",
              "dtype: float64"
            ]
          },
          "metadata": {},
          "execution_count": 30
        }
      ]
    },
    {
      "cell_type": "markdown",
      "source": [
        "`Normalizatsiya`ning vizualizatsiya ko'rinishi"
      ],
      "metadata": {
        "id": "PnayYUUr3x1M"
      }
    },
    {
      "cell_type": "code",
      "source": [
        "df.hist(bins=50, figsize=(15,10))\n",
        "plt.show()"
      ],
      "metadata": {
        "id": "gYazNphl0oOZ",
        "colab": {
          "base_uri": "https://localhost:8080/",
          "height": 607
        },
        "outputId": "1c20ce85-7bad-4270-c7fa-0c8e0198197b"
      },
      "execution_count": 31,
      "outputs": [
        {
          "output_type": "display_data",
          "data": {
            "text/plain": [
              "<Figure size 1080x720 with 9 Axes>"
            ],
            "image/png": "[encoded data removed]"
          },
          "metadata": {
            "needs_background": "light"
          }
        }
      ]
    },
    {
      "cell_type": "markdown",
      "source": [
        "Mana `house_price` ustunining normalizatsiyasi yaxshi holatda ekan, faqat ba'zi joylariga ishlov berishimiz kerak"
      ],
      "metadata": {
        "id": "1Q2kf-bj4Iar"
      }
    },
    {
      "cell_type": "code",
      "source": [
        "df['house_price'].hist(bins=50, figsize=(9,6))\n",
        "plt.show()"
      ],
      "metadata": {
        "colab": {
          "base_uri": "https://localhost:8080/",
          "height": 374
        },
        "id": "Rr9L1D6RyYCR",
        "outputId": "42c6dfd1-cc9a-467e-9c95-3c682f23217f"
      },
      "execution_count": 32,
      "outputs": [
        {
          "output_type": "display_data",
          "data": {
            "text/plain": [
              "<Figure size 648x432 with 1 Axes>"
            ],
            "image/png": "[encoded data removed]"
          },
          "metadata": {
            "needs_background": "light"
          }
        }
      ]
    },
    {
      "cell_type": "markdown",
      "source": [
        "asl `DF` ga shikast yetmasligi uchun `housing` o'zgaruvchiga nusxa olvolamiz"
      ],
      "metadata": {
        "id": "GacCXsNn4fnM"
      }
    },
    {
      "cell_type": "code",
      "source": [
        "housing = df.copy()"
      ],
      "metadata": {
        "id": "WQM8MaKi9ZS2"
      },
      "execution_count": 33,
      "outputs": []
    },
    {
      "cell_type": "markdown",
      "source": [
        "`house_price` ustunidan `10.0` dan kichik va `61.0` dan katta bo'lgan qiymatlarni olib tashlayapmiz, bu albatta korrelyatsiyani yaxshilashga yordam beradi.  \n",
        "Ushbu sonlar `Tayvan` davlatining pul bitligi(`Ping`). Bu haqida ma'lumotni yuqorida batafsil aytib o'tganmiz"
      ],
      "metadata": {
        "id": "bntO9yVj4yLD"
      }
    },
    {
      "cell_type": "code",
      "source": [
        "housing = housing[housing['house_price'] > 10.0]\n",
        "housing =housing[housing['house_price'] < 61.0]"
      ],
      "metadata": {
        "id": "3qA6FDvLzNtw"
      },
      "execution_count": 34,
      "outputs": []
    },
    {
      "cell_type": "code",
      "source": [
        "housing['house_price'].describe()"
      ],
      "metadata": {
        "colab": {
          "base_uri": "https://localhost:8080/"
        },
        "id": "8JcpV3Sp1aFK",
        "outputId": "bf9cbfab-258f-40af-bffa-b9fe181c740b"
      },
      "execution_count": 35,
      "outputs": [
        {
          "output_type": "execute_result",
          "data": {
            "text/plain": [
              "count    396.000000\n",
              "mean      36.681818\n",
              "std       11.750060\n",
              "min       11.200000\n",
              "25%       27.225000\n",
              "50%       37.900000\n",
              "75%       45.325000\n",
              "max       60.700000\n",
              "Name: house_price, dtype: float64"
            ]
          },
          "metadata": {},
          "execution_count": 35
        }
      ]
    },
    {
      "cell_type": "markdown",
      "source": [
        "mana endi `normalizatsiya` yaxshiroq holatga keldi"
      ],
      "metadata": {
        "id": "_mofWlyz6IHs"
      }
    },
    {
      "cell_type": "code",
      "source": [
        "housing['house_price'].hist(bins=50, figsize=(9,6))\n",
        "plt.show()"
      ],
      "metadata": {
        "colab": {
          "base_uri": "https://localhost:8080/",
          "height": 374
        },
        "id": "68bkpjoZ1gKY",
        "outputId": "d4046346-e077-4b47-c225-32e1634331a6"
      },
      "execution_count": 36,
      "outputs": [
        {
          "output_type": "display_data",
          "data": {
            "text/plain": [
              "<Figure size 648x432 with 1 Axes>"
            ],
            "image/png": "[encoded data removed]"
          },
          "metadata": {
            "needs_background": "light"
          }
        }
      ]
    },
    {
      "cell_type": "markdown",
      "source": [
        "`Korrelyatsiyani` ham sezilarli darajada o'sganini ko'rishimiz mumkin"
      ],
      "metadata": {
        "id": "wIcfpQoZ6UCP"
      }
    },
    {
      "cell_type": "code",
      "source": [
        "housing.corrwith(housing['house_price']).abs().sort_values(ascending=False)"
      ],
      "metadata": {
        "colab": {
          "base_uri": "https://localhost:8080/"
        },
        "id": "Ec_uDsL01tT6",
        "outputId": "803480f7-2235-48e4-8540-0410bcd39898"
      },
      "execution_count": 37,
      "outputs": [
        {
          "output_type": "execute_result",
          "data": {
            "text/plain": [
              "house_price             1.000000\n",
              "distance_MRT_station    0.732041\n",
              "number_stores           0.612782\n",
              "latitude                0.593502\n",
              "longitude               0.571465\n",
              "house_age               0.240067\n",
              "transaction_date        0.032296\n",
              "dtype: float64"
            ]
          },
          "metadata": {},
          "execution_count": 37
        }
      ]
    },
    {
      "cell_type": "markdown",
      "source": [
        "# Scikit-learn yordamida LR\n",
        "\n",
        "Avvalo ma'lumotlarni train va testga bo'lib olamiz."
      ],
      "metadata": {
        "id": "HnLakDqo7hfg"
      }
    },
    {
      "cell_type": "markdown",
      "source": [
        "### Train/Test split"
      ],
      "metadata": {
        "id": "pHU4lNtv5ML-"
      }
    },
    {
      "cell_type": "markdown",
      "source": [
        "Bizda ma'lumotlar kam, shuning uchun 10% test uchun olamiz"
      ],
      "metadata": {
        "id": "6K4bQrRX7q6Z"
      }
    },
    {
      "cell_type": "code",
      "source": [
        "train_set, test_set = train_test_split(housing, test_size=0.10, random_state=42)"
      ],
      "metadata": {
        "id": "QOiLtlOD6wff"
      },
      "execution_count": 38,
      "outputs": []
    },
    {
      "cell_type": "markdown",
      "source": [
        "# Simple Linear Regression"
      ],
      "metadata": {
        "id": "Ha96dDET634V"
      }
    },
    {
      "cell_type": "code",
      "source": [
        "LR_model = linear_model.LinearRegression()\n",
        "\n",
        "x_train = np.asanyarray(train_set[['distance_MRT_station']])\n",
        "y_train = np.asanyarray(train_set[['house_price']])\n",
        "\n",
        "# Modelni tarbiyalaymiz (train)\n",
        "LR_model.fit(x_train, y_train)\n",
        "\n",
        "#theta1 va theta0 koeefisentlarni ajratib olamiz \n",
        "theta1 = LR_model.coef_[0][0]\n",
        "theta0 = LR_model.intercept_[0]\n",
        "print (f'theta1= {theta1}')\n",
        "print (f'theta0= {theta0}')"
      ],
      "metadata": {
        "colab": {
          "base_uri": "https://localhost:8080/"
        },
        "id": "ZjgLXQIg6wYY",
        "outputId": "f8a240db-e0aa-49d1-f088-d0751d8c0b46"
      },
      "execution_count": 39,
      "outputs": [
        {
          "output_type": "stream",
          "name": "stdout",
          "text": [
            "theta1= -0.006766729585484215\n",
            "theta0= 44.13960668125144\n"
          ]
        }
      ]
    },
    {
      "cell_type": "markdown",
      "source": [
        "$\\theta_0$ va $\\theta_1$ qiymatlari yordamida to'g'ri chiziq chizamiz"
      ],
      "metadata": {
        "id": "5-Y87KW58gZ4"
      }
    },
    {
      "cell_type": "code",
      "source": [
        "plt.figure(figsize=(10,6))\n",
        "sns.scatterplot(data=housing, x='distance_MRT_station', y='house_price')\n",
        "plt.plot(x_train, theta1*x_train + theta0, '-r')\n",
        "plt.xlabel(\"Size\")\n",
        "plt.ylabel(\"Price\")"
      ],
      "metadata": {
        "colab": {
          "base_uri": "https://localhost:8080/",
          "height": 406
        },
        "id": "SQ9GEeCr6wPa",
        "outputId": "e89c9018-1273-4f9c-eb47-9dc31ed7ab10"
      },
      "execution_count": 40,
      "outputs": [
        {
          "output_type": "execute_result",
          "data": {
            "text/plain": [
              "Text(0, 0.5, 'Price')"
            ]
          },
          "metadata": {},
          "execution_count": 40
        },
        {
          "output_type": "display_data",
          "data": {
            "text/plain": [
              "<Figure size 720x432 with 1 Axes>"
            ],
            "image/png": "[encoded data removed]"
          },
          "metadata": {
            "needs_background": "light"
          }
        }
      ]
    },
    {
      "cell_type": "markdown",
      "source": [
        "### Modelni baholaymiz"
      ],
      "metadata": {
        "id": "uMFGBlMr8k5F"
      }
    },
    {
      "cell_type": "code",
      "source": [
        "x_test = np.asanyarray(test_set[['distance_MRT_station']])\n",
        "y_test = np.asanyarray(test_set[['house_price']])"
      ],
      "metadata": {
        "id": "tMcq6mTQ8MvF"
      },
      "execution_count": 41,
      "outputs": []
    },
    {
      "cell_type": "code",
      "source": [
        "y_predict = LR_model.predict(x_test)"
      ],
      "metadata": {
        "id": "gtPqwcK780v9"
      },
      "execution_count": 42,
      "outputs": []
    },
    {
      "cell_type": "code",
      "source": [
        "MAE = mean_absolute_error(y_test, y_predict)\n",
        "RMSE = np.sqrt(mean_squared_error(y_test, y_predict))\n",
        "print(f\"MAE= {MAE}\")\n",
        "print(f\"RMSE= {RMSE}\")"
      ],
      "metadata": {
        "colab": {
          "base_uri": "https://localhost:8080/"
        },
        "id": "x8eKqfPX832c",
        "outputId": "63b733cb-d19c-4605-8e2a-a48040deef5a"
      },
      "execution_count": 43,
      "outputs": [
        {
          "output_type": "stream",
          "name": "stdout",
          "text": [
            "MAE= 7.069489951722206\n",
            "RMSE= 9.413874148119627\n"
          ]
        }
      ]
    },
    {
      "cell_type": "markdown",
      "source": [
        "`MAE`, va `RMSE` xatoliklar ko'rishimiz mumkin, bizda xatolik qancha kam chiqsa natijamiz shuncha yaxshi bo'ladi.  \n",
        "\n",
        "Boshqa yo'llarini ham sinab ko'ramiz."
      ],
      "metadata": {
        "id": "2Dz6B3D88OHM"
      }
    },
    {
      "cell_type": "markdown",
      "source": [
        "# Multiple Linear Regression"
      ],
      "metadata": {
        "id": "fDg-bGTb51-f"
      }
    },
    {
      "cell_type": "markdown",
      "source": [
        "### ML"
      ],
      "metadata": {
        "id": "4hAqSERY5O4W"
      }
    },
    {
      "cell_type": "code",
      "source": [
        "\n",
        "MLR_model = linear_model.LinearRegression()\n",
        "x_train = np.asanyarray(train_set[['distance_MRT_station','number_stores','latitude','longitude']])\n",
        "# x_train = np.asanyarray(train_set[['size','max_levels']])\n",
        "y_train = np.asanyarray(train_set[['house_price']])\n",
        "MLR_model.fit(x_train, y_train)\n",
        "# Koeffisientlar (theta1, theta2, ...)\n",
        "print('Coefficients: ', MLR_model.coef_)\n",
        "print('theta0:', MLR_model.intercept_) "
      ],
      "metadata": {
        "colab": {
          "base_uri": "https://localhost:8080/"
        },
        "id": "qo2jU1xj3VqF",
        "outputId": "ad1a3d7e-86b5-43e4-860e-79517110544a"
      },
      "execution_count": 44,
      "outputs": [
        {
          "output_type": "stream",
          "name": "stdout",
          "text": [
            "Coefficients:  [[-4.03549382e-03  1.02304301e+00  2.08474937e+02  1.44960969e+01]]\n",
            "theta0: [-6930.15859413]\n"
          ]
        }
      ]
    },
    {
      "cell_type": "markdown",
      "source": [
        "### Modelni baholaymiz"
      ],
      "metadata": {
        "id": "5wWHh95P5ZCZ"
      }
    },
    {
      "cell_type": "code",
      "source": [
        "# x_test = np.asanyarray(test_set[['rooms','size','level','max_levels']])\n",
        "x_test = np.asanyarray(test_set[['distance_MRT_station','number_stores','latitude','longitude']])\n",
        "y_test = np.asanyarray(test_set[['house_price']])\n",
        "y_predict = MLR_model.predict(x_test)"
      ],
      "metadata": {
        "id": "4X7YlP0Y4amF"
      },
      "execution_count": 45,
      "outputs": []
    },
    {
      "cell_type": "code",
      "source": [
        "MAE = mean_absolute_error(y_test, y_predict)\n",
        "RMSE = np.sqrt(mean_squared_error(y_test, y_predict))\n",
        "print(f\"MAE= {MAE}\")\n",
        "print(f\"RMSE= {RMSE}\")"
      ],
      "metadata": {
        "colab": {
          "base_uri": "https://localhost:8080/"
        },
        "id": "Oc3HfZmB4o4m",
        "outputId": "9ebed517-4386-4339-acc3-66d7ee8d519e"
      },
      "execution_count": 46,
      "outputs": [
        {
          "output_type": "stream",
          "name": "stdout",
          "text": [
            "MAE= 6.872509632266483\n",
            "RMSE= 9.344606353401057\n"
          ]
        }
      ]
    },
    {
      "cell_type": "markdown",
      "source": [
        "sezilarni darajada farq bo'lmadi, yana boshqa algoritmlarni ham ko'ramiz, eng optimal yechimni o'zimiz topishimiz kerak."
      ],
      "metadata": {
        "id": "0aQU63TA8_xF"
      }
    },
    {
      "cell_type": "markdown",
      "source": [
        "\n",
        "\n",
        "  ---\n",
        "\n",
        "---\n",
        "\n",
        "\n",
        "\n",
        "---\n",
        "\n",
        "\n",
        "\n"
      ],
      "metadata": {
        "id": "uq097EyjW217"
      }
    },
    {
      "cell_type": "markdown",
      "source": [
        "# Pipeline - konveyer"
      ],
      "metadata": {
        "id": "IZgTZxvL99aS"
      }
    },
    {
      "cell_type": "code",
      "source": [
        "train_set, test_set = train_test_split(housing, test_size=0.2, random_state=42)\n",
        "\n",
        "X_train = train_set.drop(\"house_price\", axis=1)\n",
        "y = train_set[\"house_price\"].copy()"
      ],
      "metadata": {
        "id": "0q0NH3Qf9CZO"
      },
      "execution_count": 47,
      "outputs": []
    },
    {
      "cell_type": "code",
      "source": [
        "num_pipeline = Pipeline([\n",
        "          ('std_scaler', StandardScaler())             \n",
        "])"
      ],
      "metadata": {
        "id": "cRF30nJZ-XbY"
      },
      "execution_count": 48,
      "outputs": []
    },
    {
      "cell_type": "markdown",
      "source": [
        "Yuoqirda biz sonli ustunlar uchun konveyer yaratdik (`num_pipeline`).  \n",
        "\n",
        "\n",
        "Pipeline 3 ta transformerdan iborat (`imputer`, `atrribs_adder` va `std_scaler`),  bizda `NaN` qiymatlar va `Matnli` ustunlar bo'lmaganlgi sababli faqatgina `std_scaler` dan foydalanamiz.\n",
        "Bu transformerlarga siz istalgancha nom berishingiz mumkin.\n",
        "\n",
        "\n",
        "Pipeline ihsga tushrish uchun `.fit_transform()` metodiga murojaat qilamiz."
      ],
      "metadata": {
        "id": "BUrs9xWP-OfW"
      }
    },
    {
      "cell_type": "code",
      "source": [
        "num_attribs = list(X_train)\n",
        "\n",
        "full_pipeline = ColumnTransformer([\n",
        "    ('num', num_pipeline, num_attribs),\n",
        "])"
      ],
      "metadata": {
        "id": "hvdMrcv6-81u"
      },
      "execution_count": 49,
      "outputs": []
    },
    {
      "cell_type": "markdown",
      "source": [
        "Mana yakuniy, to'liq konveyer tayyor bo'ldi (`full_pipeline`). \n",
        "\n",
        "Konveyerni ishga tushirish uchun `.fit_transform()` metodini chaqrisih kifoya."
      ],
      "metadata": {
        "id": "QlLE5iLB_TZH"
      }
    },
    {
      "cell_type": "code",
      "source": [
        "X_prepared = full_pipeline.fit_transform(X_train)"
      ],
      "metadata": {
        "id": "J6YP13N6_h_W"
      },
      "execution_count": 50,
      "outputs": []
    },
    {
      "cell_type": "code",
      "source": [
        "X_prepared[0:5,:]"
      ],
      "metadata": {
        "colab": {
          "base_uri": "https://localhost:8080/"
        },
        "id": "Hay-Qs-qRdo5",
        "outputId": "82c7d9ea-5af7-4c67-c90e-b1654177037f"
      },
      "execution_count": 51,
      "outputs": [
        {
          "output_type": "execute_result",
          "data": {
            "text/plain": [
              "array([[-1.12732609, -1.21844389,  0.90511062, -0.36203355, -0.46232084,\n",
              "        -1.40288558],\n",
              "       [ 1.26552041, -0.06406947,  2.46521539, -1.40839882, -2.22994431,\n",
              "        -1.97276669],\n",
              "       [-0.52911438, -1.48483798, -0.72463353,  0.68433171, -0.26102855,\n",
              "         0.48434862],\n",
              "       [ 0.36820302, -0.03743006, -0.51909735, -1.05961039,  0.49687363,\n",
              "        -0.41619607],\n",
              "       [ 0.06909734, -0.4192616 , -0.28224825, -1.40839882,  0.63297005,\n",
              "        -0.55667839]])"
            ]
          },
          "metadata": {},
          "execution_count": 51
        }
      ]
    },
    {
      "cell_type": "markdown",
      "source": [
        "Ma'lumotlar ML uchun tayyor."
      ],
      "metadata": {
        "id": "u_Wz9EqN_dm1"
      }
    },
    {
      "cell_type": "markdown",
      "source": [
        "## Machine Learning  \n",
        "\n",
        "Bizning maqsadimiz bashorat qilish, buning uchun bir nechta ML algoritmlar mavjud."
      ],
      "metadata": {
        "id": "4pBKnifYSR2A"
      }
    },
    {
      "cell_type": "markdown",
      "source": [
        "# Linear Regression - Chiziqli regressiya  \n",
        "\n",
        "\n",
        "`sklearn` tarkibidagi `LinearRegression` klassidan yangi model yaratamiz."
      ],
      "metadata": {
        "id": "ndWB1927SWCE"
      }
    },
    {
      "cell_type": "code",
      "source": [
        "LR_model = LinearRegression()"
      ],
      "metadata": {
        "id": "pdZwRNXIRkas"
      },
      "execution_count": 52,
      "outputs": []
    },
    {
      "cell_type": "markdown",
      "source": [
        "`LinearRegression` bu estimator. Estimatorlar ma'lumotlarni qabul qilib oladi va `.fit()` metodi yordamida ulardan basorat qilishni _o'rganadi_ (machine _learning_)"
      ],
      "metadata": {
        "id": "-K5eXHxk_-FN"
      }
    },
    {
      "cell_type": "code",
      "source": [
        "LR_model.fit(X_prepared, y)"
      ],
      "metadata": {
        "colab": {
          "base_uri": "https://localhost:8080/"
        },
        "id": "SyjXI--ZSbE_",
        "outputId": "6a733524-83f6-49a7-ad6f-b3f3f01ac0d8"
      },
      "execution_count": 53,
      "outputs": [
        {
          "output_type": "execute_result",
          "data": {
            "text/plain": [
              "LinearRegression()"
            ]
          },
          "metadata": {},
          "execution_count": 53
        }
      ]
    },
    {
      "cell_type": "markdown",
      "source": [
        "Modelni qanday qilib tekshirib ko'rishimiz mumkin? Keling `housing` datasetdan biror qatorni modelga beramiz va chiqqan natijani bizdagi bor natija (label) bilan solishtiramiz."
      ],
      "metadata": {
        "id": "-UUU_ZqoAQOB"
      }
    },
    {
      "cell_type": "code",
      "source": [
        "# tasodifiy 5 ta qatorni ajratib olamiz\n",
        "test_data = X_train.sample(5)\n",
        "test_data"
      ],
      "metadata": {
        "colab": {
          "base_uri": "https://localhost:8080/",
          "height": 206
        },
        "id": "EXbeD-2ASd8u",
        "outputId": "baae6f59-b5da-4c1a-ee82-339931929fbf"
      },
      "execution_count": 54,
      "outputs": [
        {
          "output_type": "execute_result",
          "data": {
            "text/plain": [
              "     transaction_date  house_age  distance_MRT_station  number_stores  \\\n",
              "271       2012.916667       17.7              451.6419              8   \n",
              "388       2013.500000       10.4             2251.9380              4   \n",
              "234       2013.250000        8.0             2216.6120              4   \n",
              "226       2013.000000       16.5             4082.0150              0   \n",
              "239       2013.500000       18.1              837.7233              0   \n",
              "\n",
              "     latitude  longitude  \n",
              "271  24.96945  121.54490  \n",
              "388  24.95957  121.51353  \n",
              "234  24.96007  121.51361  \n",
              "226  24.94155  121.50381  \n",
              "239  24.96334  121.54767  "
            ],
            "text/html": [
              "\n",
              "  <div id=\"df-637ef50a-bda7-414f-98d5-ef2a7d7abefd\">\n",
              "    <div class=\"colab-df-container\">\n",
              "      <div>\n",
              "<style scoped>\n",
              "    .dataframe tbody tr th:only-of-type {\n",
              "        vertical-align: middle;\n",
              "    }\n",
              "\n",
              "    .dataframe tbody tr th {\n",
              "        vertical-align: top;\n",
              "    }\n",
              "\n",
              "    .dataframe thead th {\n",
              "        text-align: right;\n",
              "    }\n",
              "</style>\n",
              "<table border=\"1\" class=\"dataframe\">\n",
              "  <thead>\n",
              "    <tr style=\"text-align: right;\">\n",
              "      <th></th>\n",
              "      <th>transaction_date</th>\n",
              "      <th>house_age</th>\n",
              "      <th>distance_MRT_station</th>\n",
              "      <th>number_stores</th>\n",
              "      <th>latitude</th>\n",
              "      <th>longitude</th>\n",
              "    </tr>\n",
              "  </thead>\n",
              "  <tbody>\n",
              "    <tr>\n",
              "      <th>271</th>\n",
              "      <td>2012.916667</td>\n",
              "      <td>17.7</td>\n",
              "      <td>451.6419</td>\n",
              "      <td>8</td>\n",
              "      <td>24.96945</td>\n",
              "      <td>121.54490</td>\n",
              "    </tr>\n",
              "    <tr>\n",
              "      <th>388</th>\n",
              "      <td>2013.500000</td>\n",
              "      <td>10.4</td>\n",
              "      <td>2251.9380</td>\n",
              "      <td>4</td>\n",
              "      <td>24.95957</td>\n",
              "      <td>121.51353</td>\n",
              "    </tr>\n",
              "    <tr>\n",
              "      <th>234</th>\n",
              "      <td>2013.250000</td>\n",
              "      <td>8.0</td>\n",
              "      <td>2216.6120</td>\n",
              "      <td>4</td>\n",
              "      <td>24.96007</td>\n",
              "      <td>121.51361</td>\n",
              "    </tr>\n",
              "    <tr>\n",
              "      <th>226</th>\n",
              "      <td>2013.000000</td>\n",
              "      <td>16.5</td>\n",
              "      <td>4082.0150</td>\n",
              "      <td>0</td>\n",
              "      <td>24.94155</td>\n",
              "      <td>121.50381</td>\n",
              "    </tr>\n",
              "    <tr>\n",
              "      <th>239</th>\n",
              "      <td>2013.500000</td>\n",
              "      <td>18.1</td>\n",
              "      <td>837.7233</td>\n",
              "      <td>0</td>\n",
              "      <td>24.96334</td>\n",
              "      <td>121.54767</td>\n",
              "    </tr>\n",
              "  </tbody>\n",
              "</table>\n",
              "</div>\n",
              "      <button class=\"colab-df-convert\" onclick=\"convertToInteractive('df-637ef50a-bda7-414f-98d5-ef2a7d7abefd')\"\n",
              "              title=\"Convert this dataframe to an interactive table.\"\n",
              "              style=\"display:none;\">\n",
              "        \n",
              "  <svg xmlns=\"http://www.w3.org/2000/svg\" height=\"24px\"viewBox=\"0 0 24 24\"\n",
              "       width=\"24px\">\n",
              "    <path d=\"M0 0h24v24H0V0z\" fill=\"none\"/>\n",
              "    <path d=\"M18.56 5.44l.94 2.06.94-2.06 2.06-.94-2.06-.94-.94-2.06-.94 2.06-2.06.94zm-11 1L8.5 8.5l.94-2.06 2.06-.94-2.06-.94L8.5 2.5l-.94 2.06-2.06.94zm10 10l.94 2.06.94-2.06 2.06-.94-2.06-.94-.94-2.06-.94 2.06-2.06.94z\"/><path d=\"M17.41 7.96l-1.37-1.37c-.4-.4-.92-.59-1.43-.59-.52 0-1.04.2-1.43.59L10.3 9.45l-7.72 7.72c-.78.78-.78 2.05 0 2.83L4 21.41c.39.39.9.59 1.41.59.51 0 1.02-.2 1.41-.59l7.78-7.78 2.81-2.81c.8-.78.8-2.07 0-2.86zM5.41 20L4 18.59l7.72-7.72 1.47 1.35L5.41 20z\"/>\n",
              "  </svg>\n",
              "      </button>\n",
              "      \n",
              "  <style>\n",
              "    .colab-df-container {\n",
              "      display:flex;\n",
              "      flex-wrap:wrap;\n",
              "      gap: 12px;\n",
              "    }\n",
              "\n",
              "    .colab-df-convert {\n",
              "      background-color: #E8F0FE;\n",
              "      border: none;\n",
              "      border-radius: 50%;\n",
              "      cursor: pointer;\n",
              "      display: none;\n",
              "      fill: #1967D2;\n",
              "      height: 32px;\n",
              "      padding: 0 0 0 0;\n",
              "      width: 32px;\n",
              "    }\n",
              "\n",
              "    .colab-df-convert:hover {\n",
              "      background-color: #E2EBFA;\n",
              "      box-shadow: 0px 1px 2px rgba(60, 64, 67, 0.3), 0px 1px 3px 1px rgba(60, 64, 67, 0.15);\n",
              "      fill: #174EA6;\n",
              "    }\n",
              "\n",
              "    [theme=dark] .colab-df-convert {\n",
              "      background-color: #3B4455;\n",
              "      fill: #D2E3FC;\n",
              "    }\n",
              "\n",
              "    [theme=dark] .colab-df-convert:hover {\n",
              "      background-color: #434B5C;\n",
              "      box-shadow: 0px 1px 3px 1px rgba(0, 0, 0, 0.15);\n",
              "      filter: drop-shadow(0px 1px 2px rgba(0, 0, 0, 0.3));\n",
              "      fill: #FFFFFF;\n",
              "    }\n",
              "  </style>\n",
              "\n",
              "      <script>\n",
              "        const buttonEl =\n",
              "          document.querySelector('#df-637ef50a-bda7-414f-98d5-ef2a7d7abefd button.colab-df-convert');\n",
              "        buttonEl.style.display =\n",
              "          google.colab.kernel.accessAllowed ? 'block' : 'none';\n",
              "\n",
              "        async function convertToInteractive(key) {\n",
              "          const element = document.querySelector('#df-637ef50a-bda7-414f-98d5-ef2a7d7abefd');\n",
              "          const dataTable =\n",
              "            await google.colab.kernel.invokeFunction('convertToInteractive',\n",
              "                                                     [key], {});\n",
              "          if (!dataTable) return;\n",
              "\n",
              "          const docLinkHtml = 'Like what you see? Visit the ' +\n",
              "            '<a target=\"_blank\" href=https://colab.research.google.com/notebooks/data_table.ipynb>data table notebook</a>'\n",
              "            + ' to learn more about interactive tables.';\n",
              "          element.innerHTML = '';\n",
              "          dataTable['output_type'] = 'display_data';\n",
              "          await google.colab.output.renderOutput(dataTable, element);\n",
              "          const docLink = document.createElement('div');\n",
              "          docLink.innerHTML = docLinkHtml;\n",
              "          element.appendChild(docLink);\n",
              "        }\n",
              "      </script>\n",
              "    </div>\n",
              "  </div>\n",
              "  "
            ]
          },
          "metadata": {},
          "execution_count": 54
        }
      ]
    },
    {
      "cell_type": "code",
      "source": [
        "# yuqoridagi qatorlarga mos keluvchi narxlarni ajratib olamiz (biz aynan shu qiymatlarni bashorat qilishimiz kerak)\n",
        "test_label = y.loc[test_data.index]\n",
        "test_label"
      ],
      "metadata": {
        "colab": {
          "base_uri": "https://localhost:8080/"
        },
        "id": "DW1rsJMESir1",
        "outputId": "400d2eb8-8611-4529-a5a0-870a6eeff5b6"
      },
      "execution_count": 55,
      "outputs": [
        {
          "output_type": "execute_result",
          "data": {
            "text/plain": [
              "271    26.5\n",
              "388    27.3\n",
              "234    23.9\n",
              "226    12.8\n",
              "239    29.7\n",
              "Name: house_price, dtype: float64"
            ]
          },
          "metadata": {},
          "execution_count": 55
        }
      ]
    },
    {
      "cell_type": "markdown",
      "source": [
        "`test_data` ni pipelinedan o'tkazib, bizga kerak ko'rinishga keltirib olamiz.\n",
        "\n",
        "**Ahamiyat bering** bu safgar biz `.transform()` metodini chaqiramiz, sababi `.fit()` metodini avval chaqirgan edik."
      ],
      "metadata": {
        "id": "KRXTrNMmESlD"
      }
    },
    {
      "cell_type": "code",
      "source": [
        "test_data_prepared = full_pipeline.transform(test_data)\n",
        "test_data_prepared"
      ],
      "metadata": {
        "colab": {
          "base_uri": "https://localhost:8080/"
        },
        "id": "WMatOFDaSrZE",
        "outputId": "5f42a694-286e-4543-d989-0a04331239a3"
      },
      "execution_count": 56,
      "outputs": [
        {
          "output_type": "execute_result",
          "data": {
            "text/plain": [
              "array([[-8.28220054e-01, -1.91084373e-03, -5.12937800e-01,\n",
              "         1.38190856e+00,  4.37622229e-02,  7.50072254e-01],\n",
              "       [ 1.26552041e+00, -6.50136480e-01,  9.63923509e-01,\n",
              "        -1.32451299e-02, -7.61406973e-01, -1.32866851e+00],\n",
              "       [ 3.68203018e-01, -8.63251757e-01,  9.34944052e-01,\n",
              "        -1.32451299e-02, -7.20659544e-01, -1.32336729e+00],\n",
              "       [-5.29114375e-01, -1.08468483e-01,  2.46521539e+00,\n",
              "        -1.40839882e+00, -2.22994431e+00, -1.97276669e+00],\n",
              "       [ 1.26552041e+00,  3.36083692e-02, -1.96218411e-01,\n",
              "        -1.40839882e+00, -4.54171359e-01,  9.33626985e-01]])"
            ]
          },
          "metadata": {},
          "execution_count": 56
        }
      ]
    },
    {
      "cell_type": "markdown",
      "source": [
        "Bashorat (predict) qilamiz:"
      ],
      "metadata": {
        "id": "QgFtEQzLS7lq"
      }
    },
    {
      "cell_type": "code",
      "source": [
        "predicted_data = LR_model.predict(test_data_prepared)\n",
        "predicted_data"
      ],
      "metadata": {
        "colab": {
          "base_uri": "https://localhost:8080/"
        },
        "id": "sd0T8H1sS0vB",
        "outputId": "4f0a746b-9c34-4d1f-9c7e-5815b9cbc8a3"
      },
      "execution_count": 57,
      "outputs": [
        {
          "output_type": "execute_result",
          "data": {
            "text/plain": [
              "array([43.08790117, 32.638666  , 32.80546025, 13.22090292, 33.11256993])"
            ]
          },
          "metadata": {},
          "execution_count": 57
        }
      ]
    },
    {
      "cell_type": "markdown",
      "source": [
        "Yuoqirda ko'rib turganingiz bashorat qilingan qiymatlar. Xo'sh, ular real qiymatlardan qanday farq qiladi, solishtiramiz:"
      ],
      "metadata": {
        "id": "PczkftzaEd9M"
      }
    },
    {
      "cell_type": "code",
      "source": [
        "pd.DataFrame({'Prognoz':predicted_data, 'Real baxosi': test_label})"
      ],
      "metadata": {
        "colab": {
          "base_uri": "https://localhost:8080/",
          "height": 206
        },
        "id": "YVTx1FJCS_N-",
        "outputId": "c13b4032-eb08-4c0c-9e98-2ff603e85432"
      },
      "execution_count": 58,
      "outputs": [
        {
          "output_type": "execute_result",
          "data": {
            "text/plain": [
              "       Prognoz  Real baxosi\n",
              "271  43.087901         26.5\n",
              "388  32.638666         27.3\n",
              "234  32.805460         23.9\n",
              "226  13.220903         12.8\n",
              "239  33.112570         29.7"
            ],
            "text/html": [
              "\n",
              "  <div id=\"df-becdfbe5-601e-497d-9f94-61dc7c1244dd\">\n",
              "    <div class=\"colab-df-container\">\n",
              "      <div>\n",
              "<style scoped>\n",
              "    .dataframe tbody tr th:only-of-type {\n",
              "        vertical-align: middle;\n",
              "    }\n",
              "\n",
              "    .dataframe tbody tr th {\n",
              "        vertical-align: top;\n",
              "    }\n",
              "\n",
              "    .dataframe thead th {\n",
              "        text-align: right;\n",
              "    }\n",
              "</style>\n",
              "<table border=\"1\" class=\"dataframe\">\n",
              "  <thead>\n",
              "    <tr style=\"text-align: right;\">\n",
              "      <th></th>\n",
              "      <th>Prognoz</th>\n",
              "      <th>Real baxosi</th>\n",
              "    </tr>\n",
              "  </thead>\n",
              "  <tbody>\n",
              "    <tr>\n",
              "      <th>271</th>\n",
              "      <td>43.087901</td>\n",
              "      <td>26.5</td>\n",
              "    </tr>\n",
              "    <tr>\n",
              "      <th>388</th>\n",
              "      <td>32.638666</td>\n",
              "      <td>27.3</td>\n",
              "    </tr>\n",
              "    <tr>\n",
              "      <th>234</th>\n",
              "      <td>32.805460</td>\n",
              "      <td>23.9</td>\n",
              "    </tr>\n",
              "    <tr>\n",
              "      <th>226</th>\n",
              "      <td>13.220903</td>\n",
              "      <td>12.8</td>\n",
              "    </tr>\n",
              "    <tr>\n",
              "      <th>239</th>\n",
              "      <td>33.112570</td>\n",
              "      <td>29.7</td>\n",
              "    </tr>\n",
              "  </tbody>\n",
              "</table>\n",
              "</div>\n",
              "      <button class=\"colab-df-convert\" onclick=\"convertToInteractive('df-becdfbe5-601e-497d-9f94-61dc7c1244dd')\"\n",
              "              title=\"Convert this dataframe to an interactive table.\"\n",
              "              style=\"display:none;\">\n",
              "        \n",
              "  <svg xmlns=\"http://www.w3.org/2000/svg\" height=\"24px\"viewBox=\"0 0 24 24\"\n",
              "       width=\"24px\">\n",
              "    <path d=\"M0 0h24v24H0V0z\" fill=\"none\"/>\n",
              "    <path d=\"M18.56 5.44l.94 2.06.94-2.06 2.06-.94-2.06-.94-.94-2.06-.94 2.06-2.06.94zm-11 1L8.5 8.5l.94-2.06 2.06-.94-2.06-.94L8.5 2.5l-.94 2.06-2.06.94zm10 10l.94 2.06.94-2.06 2.06-.94-2.06-.94-.94-2.06-.94 2.06-2.06.94z\"/><path d=\"M17.41 7.96l-1.37-1.37c-.4-.4-.92-.59-1.43-.59-.52 0-1.04.2-1.43.59L10.3 9.45l-7.72 7.72c-.78.78-.78 2.05 0 2.83L4 21.41c.39.39.9.59 1.41.59.51 0 1.02-.2 1.41-.59l7.78-7.78 2.81-2.81c.8-.78.8-2.07 0-2.86zM5.41 20L4 18.59l7.72-7.72 1.47 1.35L5.41 20z\"/>\n",
              "  </svg>\n",
              "      </button>\n",
              "      \n",
              "  <style>\n",
              "    .colab-df-container {\n",
              "      display:flex;\n",
              "      flex-wrap:wrap;\n",
              "      gap: 12px;\n",
              "    }\n",
              "\n",
              "    .colab-df-convert {\n",
              "      background-color: #E8F0FE;\n",
              "      border: none;\n",
              "      border-radius: 50%;\n",
              "      cursor: pointer;\n",
              "      display: none;\n",
              "      fill: #1967D2;\n",
              "      height: 32px;\n",
              "      padding: 0 0 0 0;\n",
              "      width: 32px;\n",
              "    }\n",
              "\n",
              "    .colab-df-convert:hover {\n",
              "      background-color: #E2EBFA;\n",
              "      box-shadow: 0px 1px 2px rgba(60, 64, 67, 0.3), 0px 1px 3px 1px rgba(60, 64, 67, 0.15);\n",
              "      fill: #174EA6;\n",
              "    }\n",
              "\n",
              "    [theme=dark] .colab-df-convert {\n",
              "      background-color: #3B4455;\n",
              "      fill: #D2E3FC;\n",
              "    }\n",
              "\n",
              "    [theme=dark] .colab-df-convert:hover {\n",
              "      background-color: #434B5C;\n",
              "      box-shadow: 0px 1px 3px 1px rgba(0, 0, 0, 0.15);\n",
              "      filter: drop-shadow(0px 1px 2px rgba(0, 0, 0, 0.3));\n",
              "      fill: #FFFFFF;\n",
              "    }\n",
              "  </style>\n",
              "\n",
              "      <script>\n",
              "        const buttonEl =\n",
              "          document.querySelector('#df-becdfbe5-601e-497d-9f94-61dc7c1244dd button.colab-df-convert');\n",
              "        buttonEl.style.display =\n",
              "          google.colab.kernel.accessAllowed ? 'block' : 'none';\n",
              "\n",
              "        async function convertToInteractive(key) {\n",
              "          const element = document.querySelector('#df-becdfbe5-601e-497d-9f94-61dc7c1244dd');\n",
              "          const dataTable =\n",
              "            await google.colab.kernel.invokeFunction('convertToInteractive',\n",
              "                                                     [key], {});\n",
              "          if (!dataTable) return;\n",
              "\n",
              "          const docLinkHtml = 'Like what you see? Visit the ' +\n",
              "            '<a target=\"_blank\" href=https://colab.research.google.com/notebooks/data_table.ipynb>data table notebook</a>'\n",
              "            + ' to learn more about interactive tables.';\n",
              "          element.innerHTML = '';\n",
              "          dataTable['output_type'] = 'display_data';\n",
              "          await google.colab.output.renderOutput(dataTable, element);\n",
              "          const docLink = document.createElement('div');\n",
              "          docLink.innerHTML = docLinkHtml;\n",
              "          element.appendChild(docLink);\n",
              "        }\n",
              "      </script>\n",
              "    </div>\n",
              "  </div>\n",
              "  "
            ]
          },
          "metadata": {},
          "execution_count": 58
        }
      ]
    },
    {
      "cell_type": "markdown",
      "source": [
        "### Modelni baholaymiz  \n",
        "\n",
        "\n",
        "Ko'rib turganingizdek, modelimiz qayerdadur kamroq, qayeradur ko'proq xato bilan bashorat qilgan. \n",
        "Lekin model aniqligini baxolash uchun 5 qator yetarli emas. Keling, avvalroq ajratib olgan test set yordamida sinab ko'ramiz:"
      ],
      "metadata": {
        "id": "bGgO6UeVEnaS"
      }
    },
    {
      "cell_type": "markdown",
      "source": [
        "Avval predictor ustunlarni ajratib olaylik (`house_price`) dan boshqa barcha ustunlar):"
      ],
      "metadata": {
        "id": "pe5Z5m-JE97F"
      }
    },
    {
      "cell_type": "code",
      "source": [
        "X_test = test_set.drop('house_price', axis=1)\n",
        "X_test"
      ],
      "metadata": {
        "colab": {
          "base_uri": "https://localhost:8080/",
          "height": 423
        },
        "id": "7cD9runLTDnF",
        "outputId": "9eec0b8c-0360-4dd1-d697-0cf3df75f963"
      },
      "execution_count": 59,
      "outputs": [
        {
          "output_type": "execute_result",
          "data": {
            "text/plain": [
              "     transaction_date  house_age  distance_MRT_station  number_stores  \\\n",
              "81        2013.000000       30.8             377.79560              6   \n",
              "289       2013.333333       13.9             289.32480              5   \n",
              "261       2013.166667       16.2            2288.01100              3   \n",
              "57        2012.916667        3.5              56.47425              7   \n",
              "408       2013.416667       18.5            2175.74400              3   \n",
              "..                ...        ...                   ...            ...   \n",
              "85        2012.750000        0.0             338.96790              9   \n",
              "120       2013.166667       13.3             492.23130              5   \n",
              "3         2013.500000       13.3             561.98450              5   \n",
              "19        2012.666667        1.5              23.38284              7   \n",
              "181       2013.166667       11.6             201.89390              8   \n",
              "\n",
              "     latitude  longitude  \n",
              "81   24.96427  121.53964  \n",
              "289  24.98203  121.54348  \n",
              "261  24.95885  121.51359  \n",
              "57   24.95744  121.53711  \n",
              "408  24.96330  121.51243  \n",
              "..        ...        ...  \n",
              "85   24.96853  121.54413  \n",
              "120  24.96515  121.53737  \n",
              "3    24.98746  121.54391  \n",
              "19   24.96772  121.54102  \n",
              "181  24.98489  121.54121  \n",
              "\n",
              "[80 rows x 6 columns]"
            ],
            "text/html": [
              "\n",
              "  <div id=\"df-665a8b1e-03f6-43b2-9809-0b2c1bbd218f\">\n",
              "    <div class=\"colab-df-container\">\n",
              "      <div>\n",
              "<style scoped>\n",
              "    .dataframe tbody tr th:only-of-type {\n",
              "        vertical-align: middle;\n",
              "    }\n",
              "\n",
              "    .dataframe tbody tr th {\n",
              "        vertical-align: top;\n",
              "    }\n",
              "\n",
              "    .dataframe thead th {\n",
              "        text-align: right;\n",
              "    }\n",
              "</style>\n",
              "<table border=\"1\" class=\"dataframe\">\n",
              "  <thead>\n",
              "    <tr style=\"text-align: right;\">\n",
              "      <th></th>\n",
              "      <th>transaction_date</th>\n",
              "      <th>house_age</th>\n",
              "      <th>distance_MRT_station</th>\n",
              "      <th>number_stores</th>\n",
              "      <th>latitude</th>\n",
              "      <th>longitude</th>\n",
              "    </tr>\n",
              "  </thead>\n",
              "  <tbody>\n",
              "    <tr>\n",
              "      <th>81</th>\n",
              "      <td>2013.000000</td>\n",
              "      <td>30.8</td>\n",
              "      <td>377.79560</td>\n",
              "      <td>6</td>\n",
              "      <td>24.96427</td>\n",
              "      <td>121.53964</td>\n",
              "    </tr>\n",
              "    <tr>\n",
              "      <th>289</th>\n",
              "      <td>2013.333333</td>\n",
              "      <td>13.9</td>\n",
              "      <td>289.32480</td>\n",
              "      <td>5</td>\n",
              "      <td>24.98203</td>\n",
              "      <td>121.54348</td>\n",
              "    </tr>\n",
              "    <tr>\n",
              "      <th>261</th>\n",
              "      <td>2013.166667</td>\n",
              "      <td>16.2</td>\n",
              "      <td>2288.01100</td>\n",
              "      <td>3</td>\n",
              "      <td>24.95885</td>\n",
              "      <td>121.51359</td>\n",
              "    </tr>\n",
              "    <tr>\n",
              "      <th>57</th>\n",
              "      <td>2012.916667</td>\n",
              "      <td>3.5</td>\n",
              "      <td>56.47425</td>\n",
              "      <td>7</td>\n",
              "      <td>24.95744</td>\n",
              "      <td>121.53711</td>\n",
              "    </tr>\n",
              "    <tr>\n",
              "      <th>408</th>\n",
              "      <td>2013.416667</td>\n",
              "      <td>18.5</td>\n",
              "      <td>2175.74400</td>\n",
              "      <td>3</td>\n",
              "      <td>24.96330</td>\n",
              "      <td>121.51243</td>\n",
              "    </tr>\n",
              "    <tr>\n",
              "      <th>...</th>\n",
              "      <td>...</td>\n",
              "      <td>...</td>\n",
              "      <td>...</td>\n",
              "      <td>...</td>\n",
              "      <td>...</td>\n",
              "      <td>...</td>\n",
              "    </tr>\n",
              "    <tr>\n",
              "      <th>85</th>\n",
              "      <td>2012.750000</td>\n",
              "      <td>0.0</td>\n",
              "      <td>338.96790</td>\n",
              "      <td>9</td>\n",
              "      <td>24.96853</td>\n",
              "      <td>121.54413</td>\n",
              "    </tr>\n",
              "    <tr>\n",
              "      <th>120</th>\n",
              "      <td>2013.166667</td>\n",
              "      <td>13.3</td>\n",
              "      <td>492.23130</td>\n",
              "      <td>5</td>\n",
              "      <td>24.96515</td>\n",
              "      <td>121.53737</td>\n",
              "    </tr>\n",
              "    <tr>\n",
              "      <th>3</th>\n",
              "      <td>2013.500000</td>\n",
              "      <td>13.3</td>\n",
              "      <td>561.98450</td>\n",
              "      <td>5</td>\n",
              "      <td>24.98746</td>\n",
              "      <td>121.54391</td>\n",
              "    </tr>\n",
              "    <tr>\n",
              "      <th>19</th>\n",
              "      <td>2012.666667</td>\n",
              "      <td>1.5</td>\n",
              "      <td>23.38284</td>\n",
              "      <td>7</td>\n",
              "      <td>24.96772</td>\n",
              "      <td>121.54102</td>\n",
              "    </tr>\n",
              "    <tr>\n",
              "      <th>181</th>\n",
              "      <td>2013.166667</td>\n",
              "      <td>11.6</td>\n",
              "      <td>201.89390</td>\n",
              "      <td>8</td>\n",
              "      <td>24.98489</td>\n",
              "      <td>121.54121</td>\n",
              "    </tr>\n",
              "  </tbody>\n",
              "</table>\n",
              "<p>80 rows × 6 columns</p>\n",
              "</div>\n",
              "      <button class=\"colab-df-convert\" onclick=\"convertToInteractive('df-665a8b1e-03f6-43b2-9809-0b2c1bbd218f')\"\n",
              "              title=\"Convert this dataframe to an interactive table.\"\n",
              "              style=\"display:none;\">\n",
              "        \n",
              "  <svg xmlns=\"http://www.w3.org/2000/svg\" height=\"24px\"viewBox=\"0 0 24 24\"\n",
              "       width=\"24px\">\n",
              "    <path d=\"M0 0h24v24H0V0z\" fill=\"none\"/>\n",
              "    <path d=\"M18.56 5.44l.94 2.06.94-2.06 2.06-.94-2.06-.94-.94-2.06-.94 2.06-2.06.94zm-11 1L8.5 8.5l.94-2.06 2.06-.94-2.06-.94L8.5 2.5l-.94 2.06-2.06.94zm10 10l.94 2.06.94-2.06 2.06-.94-2.06-.94-.94-2.06-.94 2.06-2.06.94z\"/><path d=\"M17.41 7.96l-1.37-1.37c-.4-.4-.92-.59-1.43-.59-.52 0-1.04.2-1.43.59L10.3 9.45l-7.72 7.72c-.78.78-.78 2.05 0 2.83L4 21.41c.39.39.9.59 1.41.59.51 0 1.02-.2 1.41-.59l7.78-7.78 2.81-2.81c.8-.78.8-2.07 0-2.86zM5.41 20L4 18.59l7.72-7.72 1.47 1.35L5.41 20z\"/>\n",
              "  </svg>\n",
              "      </button>\n",
              "      \n",
              "  <style>\n",
              "    .colab-df-container {\n",
              "      display:flex;\n",
              "      flex-wrap:wrap;\n",
              "      gap: 12px;\n",
              "    }\n",
              "\n",
              "    .colab-df-convert {\n",
              "      background-color: #E8F0FE;\n",
              "      border: none;\n",
              "      border-radius: 50%;\n",
              "      cursor: pointer;\n",
              "      display: none;\n",
              "      fill: #1967D2;\n",
              "      height: 32px;\n",
              "      padding: 0 0 0 0;\n",
              "      width: 32px;\n",
              "    }\n",
              "\n",
              "    .colab-df-convert:hover {\n",
              "      background-color: #E2EBFA;\n",
              "      box-shadow: 0px 1px 2px rgba(60, 64, 67, 0.3), 0px 1px 3px 1px rgba(60, 64, 67, 0.15);\n",
              "      fill: #174EA6;\n",
              "    }\n",
              "\n",
              "    [theme=dark] .colab-df-convert {\n",
              "      background-color: #3B4455;\n",
              "      fill: #D2E3FC;\n",
              "    }\n",
              "\n",
              "    [theme=dark] .colab-df-convert:hover {\n",
              "      background-color: #434B5C;\n",
              "      box-shadow: 0px 1px 3px 1px rgba(0, 0, 0, 0.15);\n",
              "      filter: drop-shadow(0px 1px 2px rgba(0, 0, 0, 0.3));\n",
              "      fill: #FFFFFF;\n",
              "    }\n",
              "  </style>\n",
              "\n",
              "      <script>\n",
              "        const buttonEl =\n",
              "          document.querySelector('#df-665a8b1e-03f6-43b2-9809-0b2c1bbd218f button.colab-df-convert');\n",
              "        buttonEl.style.display =\n",
              "          google.colab.kernel.accessAllowed ? 'block' : 'none';\n",
              "\n",
              "        async function convertToInteractive(key) {\n",
              "          const element = document.querySelector('#df-665a8b1e-03f6-43b2-9809-0b2c1bbd218f');\n",
              "          const dataTable =\n",
              "            await google.colab.kernel.invokeFunction('convertToInteractive',\n",
              "                                                     [key], {});\n",
              "          if (!dataTable) return;\n",
              "\n",
              "          const docLinkHtml = 'Like what you see? Visit the ' +\n",
              "            '<a target=\"_blank\" href=https://colab.research.google.com/notebooks/data_table.ipynb>data table notebook</a>'\n",
              "            + ' to learn more about interactive tables.';\n",
              "          element.innerHTML = '';\n",
              "          dataTable['output_type'] = 'display_data';\n",
              "          await google.colab.output.renderOutput(dataTable, element);\n",
              "          const docLink = document.createElement('div');\n",
              "          docLink.innerHTML = docLinkHtml;\n",
              "          element.appendChild(docLink);\n",
              "        }\n",
              "      </script>\n",
              "    </div>\n",
              "  </div>\n",
              "  "
            ]
          },
          "metadata": {},
          "execution_count": 59
        }
      ]
    },
    {
      "cell_type": "markdown",
      "source": [
        "Label (`house_price`) ustunini ajratib olamiz."
      ],
      "metadata": {
        "id": "aAP31bISFG-G"
      }
    },
    {
      "cell_type": "code",
      "source": [
        "y_test = test_set['house_price'].copy()\n",
        "y_test"
      ],
      "metadata": {
        "colab": {
          "base_uri": "https://localhost:8080/"
        },
        "id": "8uWoH6H9TUfn",
        "outputId": "32c8f9fe-62f8-4c7c-ebf0-d3b45e8da058"
      },
      "execution_count": 60,
      "outputs": [
        {
          "output_type": "execute_result",
          "data": {
            "text/plain": [
              "81     36.8\n",
              "289    44.5\n",
              "261    24.4\n",
              "57     53.5\n",
              "408    28.1\n",
              "       ... \n",
              "85     50.8\n",
              "120    31.3\n",
              "3      54.8\n",
              "19     47.7\n",
              "181    55.9\n",
              "Name: house_price, Length: 80, dtype: float64"
            ]
          },
          "metadata": {},
          "execution_count": 60
        }
      ]
    },
    {
      "cell_type": "markdown",
      "source": [
        "`test_set` ni ham pipelinedan o'tkazamiz:"
      ],
      "metadata": {
        "id": "Zfv587BBTfc7"
      }
    },
    {
      "cell_type": "code",
      "source": [
        "X_test_prepared = full_pipeline.transform(X_test)"
      ],
      "metadata": {
        "id": "j3Mingn9TaaB"
      },
      "execution_count": 61,
      "outputs": []
    },
    {
      "cell_type": "markdown",
      "source": [
        "Bashorat"
      ],
      "metadata": {
        "id": "Xj3r4NSUTmdp"
      }
    },
    {
      "cell_type": "code",
      "source": [
        "y_predicted = LR_model.predict(X_test_prepared)"
      ],
      "metadata": {
        "id": "dkc4PHRsTj-7"
      },
      "execution_count": 62,
      "outputs": []
    },
    {
      "cell_type": "markdown",
      "source": [
        "Bashorat va real datani solishtirish uchun avvalgi bo'limda ko'rgan `Root mean square error` (RMSE) dan foydalanamiz:"
      ],
      "metadata": {
        "id": "CV109knfTveH"
      }
    },
    {
      "cell_type": "code",
      "source": [
        "from sklearn.metrics import mean_squared_error\n",
        "lin_mse = mean_squared_error(y_test, y_predicted)\n",
        "# RMSE hisoblaymiz\n",
        "lin_rmse = np.sqrt(lin_mse)\n",
        "print(lin_rmse)"
      ],
      "metadata": {
        "colab": {
          "base_uri": "https://localhost:8080/"
        },
        "id": "Nkx-AwmyTp7C",
        "outputId": "b27fb906-63ad-4e17-a2f6-ef308b28be44"
      },
      "execution_count": 63,
      "outputs": [
        {
          "output_type": "stream",
          "name": "stdout",
          "text": [
            "7.433070701522758\n"
          ]
        }
      ]
    },
    {
      "cell_type": "markdown",
      "source": [
        "Demak, `RMSE=7.43Ping` chiqdi. Ya'ni modelimiz uylarni baholashda o'rtacha `7.43 Ping` ga adashayapti. "
      ],
      "metadata": {
        "id": "BEvbSYImFlpw"
      }
    },
    {
      "cell_type": "markdown",
      "source": [
        "# DecisionTree"
      ],
      "metadata": {
        "id": "G-PjrFRqT-hp"
      }
    },
    {
      "cell_type": "code",
      "source": [
        "Tree_model = DecisionTreeRegressor()\n",
        "Tree_model.fit(X_prepared, y)"
      ],
      "metadata": {
        "colab": {
          "base_uri": "https://localhost:8080/"
        },
        "id": "BlaxGW3IT03j",
        "outputId": "06a944f6-834f-45f1-d238-116a48dde498"
      },
      "execution_count": 64,
      "outputs": [
        {
          "output_type": "execute_result",
          "data": {
            "text/plain": [
              "DecisionTreeRegressor()"
            ]
          },
          "metadata": {},
          "execution_count": 64
        }
      ]
    },
    {
      "cell_type": "markdown",
      "source": [
        "Modelni tekshiramiz:"
      ],
      "metadata": {
        "id": "6lA_78TGUFnG"
      }
    },
    {
      "cell_type": "code",
      "source": [
        "y_predicted = Tree_model.predict(X_test_prepared)"
      ],
      "metadata": {
        "id": "1v8wJzolUDWE"
      },
      "execution_count": 65,
      "outputs": []
    },
    {
      "cell_type": "code",
      "source": [
        "lin_mse = mean_squared_error(y_test, y_predicted)\n",
        "# RMSE hisoblaymiz\n",
        "lin_rmse = np.sqrt(lin_mse)\n",
        "print(lin_rmse)"
      ],
      "metadata": {
        "colab": {
          "base_uri": "https://localhost:8080/"
        },
        "id": "Z-sZfg9YUIGM",
        "outputId": "f02bfefc-c124-47a7-90de-a1fc71ee7e84"
      },
      "execution_count": 66,
      "outputs": [
        {
          "output_type": "stream",
          "name": "stdout",
          "text": [
            "7.113675210466106\n"
          ]
        }
      ]
    },
    {
      "cell_type": "markdown",
      "source": [
        "Avvalgidan katta farq qilmadi."
      ],
      "metadata": {
        "id": "9VWivMYfGHix"
      }
    },
    {
      "cell_type": "markdown",
      "source": [
        "# RandomForest"
      ],
      "metadata": {
        "id": "u_tQ1KaDURyu"
      }
    },
    {
      "cell_type": "code",
      "source": [
        "RF_model = RandomForestRegressor()\n",
        "RF_model.fit(X_prepared, y)"
      ],
      "metadata": {
        "colab": {
          "base_uri": "https://localhost:8080/"
        },
        "id": "SeCbj-yjUL-d",
        "outputId": "87eadebf-bc62-42e6-90be-66a42d1ed80b"
      },
      "execution_count": 67,
      "outputs": [
        {
          "output_type": "execute_result",
          "data": {
            "text/plain": [
              "RandomForestRegressor()"
            ]
          },
          "metadata": {},
          "execution_count": 67
        }
      ]
    },
    {
      "cell_type": "markdown",
      "source": [
        "Modelni tekshiramiz:"
      ],
      "metadata": {
        "id": "DcCD3BzwUb0F"
      }
    },
    {
      "cell_type": "code",
      "source": [
        "y_predicted = RF_model.predict(X_test_prepared)\n",
        "lin_mse = mean_squared_error(y_test, y_predicted)\n",
        "# RMSE hisoblaymiz\n",
        "lin_rmse = np.sqrt(lin_mse)\n",
        "print(lin_rmse)"
      ],
      "metadata": {
        "colab": {
          "base_uri": "https://localhost:8080/"
        },
        "id": "_wWG7Q2DUXBO",
        "outputId": "1cb76de8-e8e8-4481-b587-7fe7b13c43be"
      },
      "execution_count": 68,
      "outputs": [
        {
          "output_type": "stream",
          "name": "stdout",
          "text": [
            "6.109031567453888\n"
          ]
        }
      ]
    },
    {
      "cell_type": "markdown",
      "source": [
        "Avvalgidan yaxhsiroq."
      ],
      "metadata": {
        "id": "qurkBEhxGMv2"
      }
    },
    {
      "cell_type": "markdown",
      "source": [
        "# Cross-Validation usuli bilan baholash\n",
        "\n",
        "Yuqorida biz modelni baholash uchun ma'lumotlarni test va train setlarga ajratdik. \n",
        "Bu usulning kamchiligi biz test va train uchun doim bir xil ma'lumotlardan foydalanayapmiz. \n",
        "\n",
        "Cross-validation yordamida biz ma'lumotlarni bir necha qismga ajratib, modelni turli qismlar yordamida bir nechta bor train va test qilishimiz mumkin. \n",
        "\n",
        "Misol uchun, quyidagi rasmda ma'lumotlarni 5 ga ajratib train va test qilish ko'rsatilgan.\n",
        "\n",
        "![](https://www.oreilly.com/library/view/machine-learning-quick/9781788830577/assets/b90b29ab-dfe7-4c11-9a2f-321e84f79495.png)"
      ],
      "metadata": {
        "id": "kSPrrWdqUk6i"
      }
    },
    {
      "cell_type": "markdown",
      "source": [
        "Cross validation uchun ma'lumotlarni train va testga bo'lish shart emas, buni sklearn o'zi qiladi."
      ],
      "metadata": {
        "id": "40M6cPrfGll-"
      }
    },
    {
      "cell_type": "code",
      "source": [
        "X = housing.drop(\"house_price\", axis=1)\n",
        "y = housing[\"house_price\"].copy()\n",
        "\n",
        "X_prepared = full_pipeline.transform(X)"
      ],
      "metadata": {
        "id": "T9UdlN70Ufzm"
      },
      "execution_count": 69,
      "outputs": []
    },
    {
      "cell_type": "markdown",
      "source": [
        "Validation natijalarini ko'rsatish uchun sodda funksiya yasab olamiz"
      ],
      "metadata": {
        "id": "e2FsdGaiG4nC"
      }
    },
    {
      "cell_type": "code",
      "source": [
        "def display_scores(scores):\n",
        "    print(\"Scores:\", scores)\n",
        "    print(\"Mean:\", scores.mean())\n",
        "    print(\"Std.dev:\", scores.std())"
      ],
      "metadata": {
        "id": "yibCkGfSWQh-"
      },
      "execution_count": 70,
      "outputs": []
    },
    {
      "cell_type": "markdown",
      "source": [
        "#### LogisticRegression"
      ],
      "metadata": {
        "id": "lroZRfaZWWww"
      }
    },
    {
      "cell_type": "code",
      "source": [
        "scores = cross_val_score(LR_model, X_prepared, y, scoring=\"neg_mean_squared_error\", cv=10)\n",
        "LR_rmse_scores = np.sqrt(-scores)"
      ],
      "metadata": {
        "id": "5Juo7M_vWTEE"
      },
      "execution_count": 71,
      "outputs": []
    },
    {
      "cell_type": "code",
      "source": [
        "display_scores(LR_rmse_scores)"
      ],
      "metadata": {
        "colab": {
          "base_uri": "https://localhost:8080/"
        },
        "id": "pWvQvMrjWaFS",
        "outputId": "8edb7a79-36df-40aa-e74f-e1d9c41b4327"
      },
      "execution_count": 72,
      "outputs": [
        {
          "output_type": "stream",
          "name": "stdout",
          "text": [
            "Scores: [6.81108354 5.54383123 6.85314215 8.80081165 5.98568109 6.09366747\n",
            " 7.33105719 6.38617484 6.07133517 6.46527264]\n",
            "Mean: 6.634205696070069\n",
            "Std.dev: 0.8699175505122239\n"
          ]
        }
      ]
    },
    {
      "cell_type": "markdown",
      "source": [
        "Yuqoridagi bilan deyarli bir xil"
      ],
      "metadata": {
        "id": "KfDcj9ayHKfP"
      }
    },
    {
      "cell_type": "markdown",
      "source": [
        "#### Decision Tree"
      ],
      "metadata": {
        "id": "mwrPJh1WWgYq"
      }
    },
    {
      "cell_type": "code",
      "source": [
        "scores = cross_val_score(Tree_model, X_prepared, y, scoring=\"neg_mean_squared_error\", cv=10)\n",
        "LR_rmse_scores = np.sqrt(-scores)\n",
        "display_scores(LR_rmse_scores)"
      ],
      "metadata": {
        "colab": {
          "base_uri": "https://localhost:8080/"
        },
        "id": "rMaHcFaRWb9y",
        "outputId": "7590d6f9-b9b4-476c-cddb-07188e913641"
      },
      "execution_count": 73,
      "outputs": [
        {
          "output_type": "stream",
          "name": "stdout",
          "text": [
            "Scores: [5.75286885 6.29158168 7.14388725 7.69295538 7.39172257 4.8518682\n",
            " 7.24880627 7.9526322  7.0937224  5.56557643]\n",
            "Mean: 6.698562121928113\n",
            "Std.dev: 0.972271553131596\n"
          ]
        }
      ]
    },
    {
      "cell_type": "markdown",
      "source": [
        "bu ham shunday"
      ],
      "metadata": {
        "id": "lUX_AyKFHSFt"
      }
    },
    {
      "cell_type": "markdown",
      "source": [
        "#### Random Forest"
      ],
      "metadata": {
        "id": "zgsPD1hAWnKk"
      }
    },
    {
      "cell_type": "code",
      "source": [
        "scores = cross_val_score(RF_model, X_prepared, y, scoring=\"neg_mean_squared_error\", cv=5)\n",
        "LR_rmse_scores = np.sqrt(-scores)\n",
        "display_scores(LR_rmse_scores)"
      ],
      "metadata": {
        "colab": {
          "base_uri": "https://localhost:8080/"
        },
        "id": "gTU72y7cWkG7",
        "outputId": "27bd4c11-358f-4f75-a991-6e15f55bc7b0"
      },
      "execution_count": 84,
      "outputs": [
        {
          "output_type": "stream",
          "name": "stdout",
          "text": [
            "Scores: [5.05403367 5.64902373 4.0785765  5.79238688 4.77503292]\n",
            "Mean: 5.0698107395902365\n",
            "Std.dev: 0.6208529887194967\n"
          ]
        }
      ]
    },
    {
      "cell_type": "markdown",
      "source": [
        "Mana eng optimal yechim `Cross Validation` usuli orqali baholangan `Random Forest` algoritmida ko'rishimiz mumkin.!"
      ],
      "metadata": {
        "id": "eF9hj5flHWcU"
      }
    },
    {
      "cell_type": "code",
      "source": [
        ""
      ],
      "metadata": {
        "id": "6Y7rJa_QWq-r"
      },
      "execution_count": 74,
      "outputs": []
    }
  ]
}